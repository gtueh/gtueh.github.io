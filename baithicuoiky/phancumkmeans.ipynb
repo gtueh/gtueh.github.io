{
  "cells": [
    {
      "cell_type": "markdown",
      "metadata": {
        "id": "FpY6HJQu9viz"
      },
      "source": [
        "### NẠP THƯ VIỆN"
      ]
    },
    {
      "cell_type": "code",
      "execution_count": 32,
      "metadata": {
        "id": "FH-fj9Pk59fO"
      },
      "outputs": [],
      "source": [
        "import pandas as pd\n",
        "import numpy as np\n",
        "import os\n",
        "import matplotlib.pyplot as plt\n",
        "from sklearn.cluster import KMeans\n",
        "import seaborn as sns\n",
        "import matplotlib.pyplot as plt"
      ]
    },
    {
      "cell_type": "markdown",
      "metadata": {
        "id": "vbfKIE3vmi1k"
      },
      "source": [
        "### NẠP FILE DỮ LIỆU ĐÃ XỬ LÝ BẰNG EXCEL"
      ]
    },
    {
      "cell_type": "markdown",
      "metadata": {
        "id": "_QTK4gDUm0wG"
      },
      "source": [
        "### Đọc file excel"
      ]
    },
    {
      "cell_type": "code",
      "execution_count": 33,
      "metadata": {
        "id": "uzuhqX1Pm5nU"
      },
      "outputs": [
        {
          "name": "stdout",
          "output_type": "stream",
          "text": [
            "Requirement already satisfied: openpyxl in /usr/local/python/3.12.1/lib/python3.12/site-packages (3.1.5)\n",
            "Requirement already satisfied: et-xmlfile in /usr/local/python/3.12.1/lib/python3.12/site-packages (from openpyxl) (2.0.0)\n",
            "\n",
            "\u001b[1m[\u001b[0m\u001b[34;49mnotice\u001b[0m\u001b[1;39;49m]\u001b[0m\u001b[39;49m A new release of pip is available: \u001b[0m\u001b[31;49m25.1.1\u001b[0m\u001b[39;49m -> \u001b[0m\u001b[32;49m25.3\u001b[0m\n",
            "\u001b[1m[\u001b[0m\u001b[34;49mnotice\u001b[0m\u001b[1;39;49m]\u001b[0m\u001b[39;49m To update, run: \u001b[0m\u001b[32;49mpython -m pip install --upgrade pip\u001b[0m\n",
            "Note: you may need to restart the kernel to use updated packages.\n"
          ]
        }
      ],
      "source": [
        "%pip install openpyxl\n",
        "df = pd.read_excel('DataCO2.xlsx', engine='openpyxl')"
      ]
    },
    {
      "cell_type": "markdown",
      "metadata": {
        "id": "9p34Cr_MnX3J"
      },
      "source": [
        "### TIỀN XỬ LÝ DỮ LIỆU"
      ]
    },
    {
      "cell_type": "markdown",
      "metadata": {
        "id": "j4X34hjZoqNB"
      },
      "source": [
        "### Loại bỏ các dòng trùng lặp"
      ]
    },
    {
      "cell_type": "code",
      "execution_count": 34,
      "metadata": {
        "id": "VKgcWi4xolOP"
      },
      "outputs": [],
      "source": [
        "df = df.drop_duplicates()"
      ]
    },
    {
      "cell_type": "markdown",
      "metadata": {
        "id": "qQMn-KTMpCPu"
      },
      "source": [
        "### Chuẩn hóa và chuyển các cột định lượng sang dạng numeric"
      ]
    },
    {
      "cell_type": "code",
      "execution_count": 35,
      "metadata": {
        "id": "TOMn4LzO20Xt"
      },
      "outputs": [],
      "source": [
        "numeric_cols = [\n",
        " 'population',\t'gdp',\t'co2',\t'co2_per_capita',\t'co2_per_gdp',\t'co2_growth_abs',\t'co2_growth_prct',\t'cement_co2',\t'coal_co2',\t'flaring_co2',\t'gas_co2',\t'land_use_change_co2',\t'oil_co2',\t'primary_energy_consumption',\t'temperature_change_from_co2'\n",
        " ]\n",
        "\n",
        "for c in numeric_cols + ['year']:\n",
        "    if c in df.columns:\n",
        "        df[c] = (\n",
        "            df[c].astype(str)                          # Ép mọi giá trị thành chuỗi\n",
        "                 .str.replace(\",\", \"\", regex=False)    # Loại bỏ dấu phẩy (\"1,000\" → \"1000\")\n",
        "                 .str.replace(\" \", \"\", regex=False)    # Loại bỏ khoảng trắng (\" 1000 \" → \"1000\")\n",
        "                 .replace({\"\": np.nan, \"nan\": np.nan, \"NA\": np.nan, \"N/A\": np.nan})  # Chuẩn hóa giá trị rỗng về NaN\n",
        "        )\n",
        "        df[c] = pd.to_numeric(df[c], errors=\"coerce\")  # Chuyển thành số\n"
      ]
    },
    {
      "cell_type": "markdown",
      "metadata": {
        "id": "t8OIbRX0pM6S"
      },
      "source": [
        "### Chuẩn hóa và chuyển cột Name sang dạng sang dạng string"
      ]
    },
    {
      "cell_type": "code",
      "execution_count": 36,
      "metadata": {
        "id": "vapJkyIw3clw"
      },
      "outputs": [],
      "source": [
        "df['Name'] = df['Name'].astype(str).str.strip()"
      ]
    },
    {
      "cell_type": "code",
      "execution_count": 37,
      "metadata": {
        "colab": {
          "base_uri": "https://localhost:8080/",
          "height": 226
        },
        "id": "o5-Pb6A2qhIl",
        "outputId": "48c0e21c-c756-4fc7-e299-a65ed404c77f"
      },
      "outputs": [
        {
          "data": {
            "text/html": [
              "<div>\n",
              "<style scoped>\n",
              "    .dataframe tbody tr th:only-of-type {\n",
              "        vertical-align: middle;\n",
              "    }\n",
              "\n",
              "    .dataframe tbody tr th {\n",
              "        vertical-align: top;\n",
              "    }\n",
              "\n",
              "    .dataframe thead th {\n",
              "        text-align: right;\n",
              "    }\n",
              "</style>\n",
              "<table border=\"1\" class=\"dataframe\">\n",
              "  <thead>\n",
              "    <tr style=\"text-align: right;\">\n",
              "      <th></th>\n",
              "      <th>Description</th>\n",
              "      <th>Name</th>\n",
              "      <th>year</th>\n",
              "      <th>iso_code</th>\n",
              "      <th>population</th>\n",
              "      <th>gdp</th>\n",
              "      <th>co2</th>\n",
              "      <th>co2_per_capita</th>\n",
              "      <th>co2_per_gdp</th>\n",
              "      <th>co2_growth_abs</th>\n",
              "      <th>co2_growth_prct</th>\n",
              "      <th>cement_co2</th>\n",
              "      <th>coal_co2</th>\n",
              "      <th>flaring_co2</th>\n",
              "      <th>gas_co2</th>\n",
              "      <th>land_use_change_co2</th>\n",
              "      <th>oil_co2</th>\n",
              "      <th>primary_energy_consumption</th>\n",
              "      <th>temperature_change_from_co2</th>\n",
              "    </tr>\n",
              "  </thead>\n",
              "  <tbody>\n",
              "    <tr>\n",
              "      <th>0</th>\n",
              "      <td>Country</td>\n",
              "      <td>Afghanistan</td>\n",
              "      <td>2000</td>\n",
              "      <td>AFG</td>\n",
              "      <td>20130334.0</td>\n",
              "      <td>1.128379e+10</td>\n",
              "      <td>1.047</td>\n",
              "      <td>0.052</td>\n",
              "      <td>0.093</td>\n",
              "      <td>-0.045</td>\n",
              "      <td>-4.078</td>\n",
              "      <td>0.010</td>\n",
              "      <td>0.004</td>\n",
              "      <td>0.022</td>\n",
              "      <td>0.224</td>\n",
              "      <td>0.057</td>\n",
              "      <td>0.788</td>\n",
              "      <td>5.914</td>\n",
              "      <td>0.000</td>\n",
              "    </tr>\n",
              "    <tr>\n",
              "      <th>1</th>\n",
              "      <td>Country</td>\n",
              "      <td>Albania</td>\n",
              "      <td>2000</td>\n",
              "      <td>ALB</td>\n",
              "      <td>3166147.0</td>\n",
              "      <td>1.473684e+10</td>\n",
              "      <td>3.025</td>\n",
              "      <td>0.053</td>\n",
              "      <td>0.097</td>\n",
              "      <td>0.039</td>\n",
              "      <td>1.297</td>\n",
              "      <td>0.094</td>\n",
              "      <td>0.070</td>\n",
              "      <td>0.000</td>\n",
              "      <td>0.022</td>\n",
              "      <td>-0.087</td>\n",
              "      <td>2.840</td>\n",
              "      <td>28.732</td>\n",
              "      <td>0.000</td>\n",
              "    </tr>\n",
              "    <tr>\n",
              "      <th>2</th>\n",
              "      <td>Country</td>\n",
              "      <td>Algeria</td>\n",
              "      <td>2000</td>\n",
              "      <td>DZA</td>\n",
              "      <td>30903895.0</td>\n",
              "      <td>2.085540e+11</td>\n",
              "      <td>85.399</td>\n",
              "      <td>0.063</td>\n",
              "      <td>0.071</td>\n",
              "      <td>-6.051</td>\n",
              "      <td>-6.616</td>\n",
              "      <td>3.789</td>\n",
              "      <td>1.960</td>\n",
              "      <td>14.287</td>\n",
              "      <td>38.534</td>\n",
              "      <td>5.087</td>\n",
              "      <td>26.828</td>\n",
              "      <td>299.946</td>\n",
              "      <td>0.001</td>\n",
              "    </tr>\n",
              "    <tr>\n",
              "      <th>3</th>\n",
              "      <td>Country</td>\n",
              "      <td>Andorra</td>\n",
              "      <td>2000</td>\n",
              "      <td>AND</td>\n",
              "      <td>65703.0</td>\n",
              "      <td>NaN</td>\n",
              "      <td>0.524</td>\n",
              "      <td>0.069</td>\n",
              "      <td>0.074</td>\n",
              "      <td>0.011</td>\n",
              "      <td>2.143</td>\n",
              "      <td>0.000</td>\n",
              "      <td>0.000</td>\n",
              "      <td>0.000</td>\n",
              "      <td>NaN</td>\n",
              "      <td>0.029</td>\n",
              "      <td>0.524</td>\n",
              "      <td>NaN</td>\n",
              "      <td>0.000</td>\n",
              "    </tr>\n",
              "    <tr>\n",
              "      <th>4</th>\n",
              "      <td>Country</td>\n",
              "      <td>Angola</td>\n",
              "      <td>2000</td>\n",
              "      <td>AGO</td>\n",
              "      <td>16194872.0</td>\n",
              "      <td>2.351218e+10</td>\n",
              "      <td>15.995</td>\n",
              "      <td>0.053</td>\n",
              "      <td>0.055</td>\n",
              "      <td>-1.266</td>\n",
              "      <td>-7.335</td>\n",
              "      <td>0.081</td>\n",
              "      <td>NaN</td>\n",
              "      <td>11.162</td>\n",
              "      <td>1.085</td>\n",
              "      <td>23.296</td>\n",
              "      <td>3.668</td>\n",
              "      <td>32.448</td>\n",
              "      <td>0.002</td>\n",
              "    </tr>\n",
              "  </tbody>\n",
              "</table>\n",
              "</div>"
            ],
            "text/plain": [
              "  Description         Name  year iso_code  population           gdp     co2  \\\n",
              "0     Country  Afghanistan  2000      AFG  20130334.0  1.128379e+10   1.047   \n",
              "1     Country      Albania  2000      ALB   3166147.0  1.473684e+10   3.025   \n",
              "2     Country      Algeria  2000      DZA  30903895.0  2.085540e+11  85.399   \n",
              "3     Country      Andorra  2000      AND     65703.0           NaN   0.524   \n",
              "4     Country       Angola  2000      AGO  16194872.0  2.351218e+10  15.995   \n",
              "\n",
              "   co2_per_capita  co2_per_gdp  co2_growth_abs  co2_growth_prct  cement_co2  \\\n",
              "0           0.052        0.093          -0.045           -4.078       0.010   \n",
              "1           0.053        0.097           0.039            1.297       0.094   \n",
              "2           0.063        0.071          -6.051           -6.616       3.789   \n",
              "3           0.069        0.074           0.011            2.143       0.000   \n",
              "4           0.053        0.055          -1.266           -7.335       0.081   \n",
              "\n",
              "   coal_co2  flaring_co2  gas_co2  land_use_change_co2  oil_co2  \\\n",
              "0     0.004        0.022    0.224                0.057    0.788   \n",
              "1     0.070        0.000    0.022               -0.087    2.840   \n",
              "2     1.960       14.287   38.534                5.087   26.828   \n",
              "3     0.000        0.000      NaN                0.029    0.524   \n",
              "4       NaN       11.162    1.085               23.296    3.668   \n",
              "\n",
              "   primary_energy_consumption  temperature_change_from_co2  \n",
              "0                       5.914                        0.000  \n",
              "1                      28.732                        0.000  \n",
              "2                     299.946                        0.001  \n",
              "3                         NaN                        0.000  \n",
              "4                      32.448                        0.002  "
            ]
          },
          "execution_count": 37,
          "metadata": {},
          "output_type": "execute_result"
        }
      ],
      "source": [
        "df.head()"
      ]
    },
    {
      "cell_type": "markdown",
      "metadata": {
        "id": "P0X4SVrr43mr"
      },
      "source": [
        "### PHÂN CỤM CÁC QUỐC GIA THEO MỨC PHÁT THẢI CO2 TRUNG BÌNH GIAI ĐOẠN 2000-2023"
      ]
    },
    {
      "cell_type": "markdown",
      "metadata": {
        "id": "2zAHrzPazUkz"
      },
      "source": [
        "### Chuẩn bị dữ liệu"
      ]
    },
    {
      "cell_type": "code",
      "execution_count": 38,
      "metadata": {
        "id": "BB2RMOLYtg5w"
      },
      "outputs": [],
      "source": [
        "# Nạp thư viện\n",
        "from sklearn.preprocessing import StandardScaler\n",
        "from sklearn.decomposition import PCA\n",
        "from sklearn.cluster import KMeans\n",
        "\n",
        "# Lọc riêng quốc gia và chỉ lấy năm 2023\n",
        "df_country = df[df[\"Description\"] == \"Country\"].copy()\n",
        "\n",
        "# Gộp trung bình 23 năm cho từng quốc gia\n",
        "df_country_mean = (\n",
        "    df_country\n",
        "    .groupby(\"Name\")[[\n",
        "        'population', 'gdp', 'co2', 'co2_per_capita', 'co2_per_gdp',\n",
        "        'co2_growth_abs', 'co2_growth_prct', 'cement_co2', 'coal_co2',\n",
        "        'flaring_co2', 'gas_co2', 'land_use_change_co2', 'oil_co2',\n",
        "        'primary_energy_consumption', 'temperature_change_from_co2'\n",
        "    ]]\n",
        "    .mean()\n",
        "    .reset_index()\n",
        ")\n",
        "\n",
        "# Lấy tên quốc gia làm nhãn\n",
        "countries = df_country[\"Name\"]\n",
        "data_cluster = df_country[numeric_cols].copy()"
      ]
    },
    {
      "cell_type": "markdown",
      "metadata": {
        "id": "q3PwVsI70Bxs"
      },
      "source": [
        "### Xử lý dữ liệu bị thiếu bằng Median"
      ]
    },
    {
      "cell_type": "code",
      "execution_count": 39,
      "metadata": {
        "id": "sjJMDx450GLP"
      },
      "outputs": [],
      "source": [
        "for col in data_cluster.columns:\n",
        "    if data_cluster[col].isna().sum() > 0:\n",
        "        data_cluster[col] = data_cluster[col].fillna(data_cluster[col].median())"
      ]
    },
    {
      "cell_type": "markdown",
      "metadata": {
        "id": "8p19ugg-zcpI"
      },
      "source": [
        "### Chuẩn hóa dữ liệu StandardScaler"
      ]
    },
    {
      "cell_type": "code",
      "execution_count": 40,
      "metadata": {
        "id": "WdN8_SeWzaiX"
      },
      "outputs": [],
      "source": [
        "scaler = StandardScaler()\n",
        "X = scaler.fit_transform(data_cluster)\n",
        "preprocessed = pd.DataFrame(data=X, columns=numeric_cols)"
      ]
    },
    {
      "cell_type": "markdown",
      "metadata": {
        "id": "eOUZXQBDzi37"
      },
      "source": [
        "### Giảm chiều dữ liệu bằng PCA"
      ]
    },
    {
      "cell_type": "code",
      "execution_count": 41,
      "metadata": {
        "colab": {
          "base_uri": "https://localhost:8080/"
        },
        "id": "uaX-gORXzrit",
        "outputId": "9ff31b4e-2ac7-474e-eb1f-8ee74a042611"
      },
      "outputs": [
        {
          "name": "stdout",
          "output_type": "stream",
          "text": [
            "2\n"
          ]
        }
      ],
      "source": [
        "pca = PCA(n_components=None)\n",
        "data_clusterx_pca = pca.fit(preprocessed)\n",
        "data_clusterx_pca.explained_variance_ratio_\n",
        "n_components = sum(data_clusterx_pca.explained_variance_ratio_ > 0.1)\n",
        "pca = PCA(n_components=n_components)\n",
        "CO2_PCA = pca.fit_transform(preprocessed)\n",
        "print(n_components)"
      ]
    },
    {
      "cell_type": "markdown",
      "metadata": {
        "id": "P0ij4GYGzv6k"
      },
      "source": [
        "### Chọn tham số K bằng Elbow Method"
      ]
    },
    {
      "cell_type": "code",
      "execution_count": 42,
      "metadata": {
        "colab": {
          "base_uri": "https://localhost:8080/",
          "height": 473
        },
        "id": "KAaTdSc9z0ZA",
        "outputId": "46ecb0f1-1f9c-46ab-86bb-ce0c62f74b6d"
      },
      "outputs": [
        {
          "data": {
            "image/png": "[encoded data removed]",
            "text/plain": [
              "<Figure size 640x480 with 1 Axes>"
            ]
          },
          "metadata": {},
          "output_type": "display_data"
        }
      ],
      "source": [
        "inertia = []\n",
        "for k in range(1, 10):\n",
        "    kmeans = KMeans(n_clusters=k, random_state=42).fit(CO2_PCA)\n",
        "    inertia.append(kmeans.inertia_)\n",
        "\n",
        "plt.plot(range(1, 10), inertia, marker='o')\n",
        "plt.title(\"Elbow Method - Xác định số cụm tối ưu\")\n",
        "plt.xlabel(\"Số cụm (K)\")\n",
        "plt.ylabel(\"Inertia\")\n",
        "plt.grid(True)\n",
        "plt.show()"
      ]
    },
    {
      "cell_type": "code",
      "execution_count": 43,
      "metadata": {
        "colab": {
          "base_uri": "https://localhost:8080/",
          "height": 80
        },
        "id": "TMg4L9DZQliD",
        "outputId": "3e72e1e0-4352-475a-f63d-b2f8f9914ab8"
      },
      "outputs": [
        {
          "data": {
            "text/html": [
              "<style>#sk-container-id-2 {\n",
              "  /* Definition of color scheme common for light and dark mode */\n",
              "  --sklearn-color-text: #000;\n",
              "  --sklearn-color-text-muted: #666;\n",
              "  --sklearn-color-line: gray;\n",
              "  /* Definition of color scheme for unfitted estimators */\n",
              "  --sklearn-color-unfitted-level-0: #fff5e6;\n",
              "  --sklearn-color-unfitted-level-1: #f6e4d2;\n",
              "  --sklearn-color-unfitted-level-2: #ffe0b3;\n",
              "  --sklearn-color-unfitted-level-3: chocolate;\n",
              "  /* Definition of color scheme for fitted estimators */\n",
              "  --sklearn-color-fitted-level-0: #f0f8ff;\n",
              "  --sklearn-color-fitted-level-1: #d4ebff;\n",
              "  --sklearn-color-fitted-level-2: #b3dbfd;\n",
              "  --sklearn-color-fitted-level-3: cornflowerblue;\n",
              "\n",
              "  /* Specific color for light theme */\n",
              "  --sklearn-color-text-on-default-background: var(--sg-text-color, var(--theme-code-foreground, var(--jp-content-font-color1, black)));\n",
              "  --sklearn-color-background: var(--sg-background-color, var(--theme-background, var(--jp-layout-color0, white)));\n",
              "  --sklearn-color-border-box: var(--sg-text-color, var(--theme-code-foreground, var(--jp-content-font-color1, black)));\n",
              "  --sklearn-color-icon: #696969;\n",
              "\n",
              "  @media (prefers-color-scheme: dark) {\n",
              "    /* Redefinition of color scheme for dark theme */\n",
              "    --sklearn-color-text-on-default-background: var(--sg-text-color, var(--theme-code-foreground, var(--jp-content-font-color1, white)));\n",
              "    --sklearn-color-background: var(--sg-background-color, var(--theme-background, var(--jp-layout-color0, #111)));\n",
              "    --sklearn-color-border-box: var(--sg-text-color, var(--theme-code-foreground, var(--jp-content-font-color1, white)));\n",
              "    --sklearn-color-icon: #878787;\n",
              "  }\n",
              "}\n",
              "\n",
              "#sk-container-id-2 {\n",
              "  color: var(--sklearn-color-text);\n",
              "}\n",
              "\n",
              "#sk-container-id-2 pre {\n",
              "  padding: 0;\n",
              "}\n",
              "\n",
              "#sk-container-id-2 input.sk-hidden--visually {\n",
              "  border: 0;\n",
              "  clip: rect(1px 1px 1px 1px);\n",
              "  clip: rect(1px, 1px, 1px, 1px);\n",
              "  height: 1px;\n",
              "  margin: -1px;\n",
              "  overflow: hidden;\n",
              "  padding: 0;\n",
              "  position: absolute;\n",
              "  width: 1px;\n",
              "}\n",
              "\n",
              "#sk-container-id-2 div.sk-dashed-wrapped {\n",
              "  border: 1px dashed var(--sklearn-color-line);\n",
              "  margin: 0 0.4em 0.5em 0.4em;\n",
              "  box-sizing: border-box;\n",
              "  padding-bottom: 0.4em;\n",
              "  background-color: var(--sklearn-color-background);\n",
              "}\n",
              "\n",
              "#sk-container-id-2 div.sk-container {\n",
              "  /* jupyter's `normalize.less` sets `[hidden] { display: none; }`\n",
              "     but bootstrap.min.css set `[hidden] { display: none !important; }`\n",
              "     so we also need the `!important` here to be able to override the\n",
              "     default hidden behavior on the sphinx rendered scikit-learn.org.\n",
              "     See: https://github.com/scikit-learn/scikit-learn/issues/21755 */\n",
              "  display: inline-block !important;\n",
              "  position: relative;\n",
              "}\n",
              "\n",
              "#sk-container-id-2 div.sk-text-repr-fallback {\n",
              "  display: none;\n",
              "}\n",
              "\n",
              "div.sk-parallel-item,\n",
              "div.sk-serial,\n",
              "div.sk-item {\n",
              "  /* draw centered vertical line to link estimators */\n",
              "  background-image: linear-gradient(var(--sklearn-color-text-on-default-background), var(--sklearn-color-text-on-default-background));\n",
              "  background-size: 2px 100%;\n",
              "  background-repeat: no-repeat;\n",
              "  background-position: center center;\n",
              "}\n",
              "\n",
              "/* Parallel-specific style estimator block */\n",
              "\n",
              "#sk-container-id-2 div.sk-parallel-item::after {\n",
              "  content: \"\";\n",
              "  width: 100%;\n",
              "  border-bottom: 2px solid var(--sklearn-color-text-on-default-background);\n",
              "  flex-grow: 1;\n",
              "}\n",
              "\n",
              "#sk-container-id-2 div.sk-parallel {\n",
              "  display: flex;\n",
              "  align-items: stretch;\n",
              "  justify-content: center;\n",
              "  background-color: var(--sklearn-color-background);\n",
              "  position: relative;\n",
              "}\n",
              "\n",
              "#sk-container-id-2 div.sk-parallel-item {\n",
              "  display: flex;\n",
              "  flex-direction: column;\n",
              "}\n",
              "\n",
              "#sk-container-id-2 div.sk-parallel-item:first-child::after {\n",
              "  align-self: flex-end;\n",
              "  width: 50%;\n",
              "}\n",
              "\n",
              "#sk-container-id-2 div.sk-parallel-item:last-child::after {\n",
              "  align-self: flex-start;\n",
              "  width: 50%;\n",
              "}\n",
              "\n",
              "#sk-container-id-2 div.sk-parallel-item:only-child::after {\n",
              "  width: 0;\n",
              "}\n",
              "\n",
              "/* Serial-specific style estimator block */\n",
              "\n",
              "#sk-container-id-2 div.sk-serial {\n",
              "  display: flex;\n",
              "  flex-direction: column;\n",
              "  align-items: center;\n",
              "  background-color: var(--sklearn-color-background);\n",
              "  padding-right: 1em;\n",
              "  padding-left: 1em;\n",
              "}\n",
              "\n",
              "\n",
              "/* Toggleable style: style used for estimator/Pipeline/ColumnTransformer box that is\n",
              "clickable and can be expanded/collapsed.\n",
              "- Pipeline and ColumnTransformer use this feature and define the default style\n",
              "- Estimators will overwrite some part of the style using the `sk-estimator` class\n",
              "*/\n",
              "\n",
              "/* Pipeline and ColumnTransformer style (default) */\n",
              "\n",
              "#sk-container-id-2 div.sk-toggleable {\n",
              "  /* Default theme specific background. It is overwritten whether we have a\n",
              "  specific estimator or a Pipeline/ColumnTransformer */\n",
              "  background-color: var(--sklearn-color-background);\n",
              "}\n",
              "\n",
              "/* Toggleable label */\n",
              "#sk-container-id-2 label.sk-toggleable__label {\n",
              "  cursor: pointer;\n",
              "  display: flex;\n",
              "  width: 100%;\n",
              "  margin-bottom: 0;\n",
              "  padding: 0.5em;\n",
              "  box-sizing: border-box;\n",
              "  text-align: center;\n",
              "  align-items: start;\n",
              "  justify-content: space-between;\n",
              "  gap: 0.5em;\n",
              "}\n",
              "\n",
              "#sk-container-id-2 label.sk-toggleable__label .caption {\n",
              "  font-size: 0.6rem;\n",
              "  font-weight: lighter;\n",
              "  color: var(--sklearn-color-text-muted);\n",
              "}\n",
              "\n",
              "#sk-container-id-2 label.sk-toggleable__label-arrow:before {\n",
              "  /* Arrow on the left of the label */\n",
              "  content: \"▸\";\n",
              "  float: left;\n",
              "  margin-right: 0.25em;\n",
              "  color: var(--sklearn-color-icon);\n",
              "}\n",
              "\n",
              "#sk-container-id-2 label.sk-toggleable__label-arrow:hover:before {\n",
              "  color: var(--sklearn-color-text);\n",
              "}\n",
              "\n",
              "/* Toggleable content - dropdown */\n",
              "\n",
              "#sk-container-id-2 div.sk-toggleable__content {\n",
              "  display: none;\n",
              "  text-align: left;\n",
              "  /* unfitted */\n",
              "  background-color: var(--sklearn-color-unfitted-level-0);\n",
              "}\n",
              "\n",
              "#sk-container-id-2 div.sk-toggleable__content.fitted {\n",
              "  /* fitted */\n",
              "  background-color: var(--sklearn-color-fitted-level-0);\n",
              "}\n",
              "\n",
              "#sk-container-id-2 div.sk-toggleable__content pre {\n",
              "  margin: 0.2em;\n",
              "  border-radius: 0.25em;\n",
              "  color: var(--sklearn-color-text);\n",
              "  /* unfitted */\n",
              "  background-color: var(--sklearn-color-unfitted-level-0);\n",
              "}\n",
              "\n",
              "#sk-container-id-2 div.sk-toggleable__content.fitted pre {\n",
              "  /* unfitted */\n",
              "  background-color: var(--sklearn-color-fitted-level-0);\n",
              "}\n",
              "\n",
              "#sk-container-id-2 input.sk-toggleable__control:checked~div.sk-toggleable__content {\n",
              "  /* Expand drop-down */\n",
              "  display: block;\n",
              "  width: 100%;\n",
              "  overflow: visible;\n",
              "}\n",
              "\n",
              "#sk-container-id-2 input.sk-toggleable__control:checked~label.sk-toggleable__label-arrow:before {\n",
              "  content: \"▾\";\n",
              "}\n",
              "\n",
              "/* Pipeline/ColumnTransformer-specific style */\n",
              "\n",
              "#sk-container-id-2 div.sk-label input.sk-toggleable__control:checked~label.sk-toggleable__label {\n",
              "  color: var(--sklearn-color-text);\n",
              "  background-color: var(--sklearn-color-unfitted-level-2);\n",
              "}\n",
              "\n",
              "#sk-container-id-2 div.sk-label.fitted input.sk-toggleable__control:checked~label.sk-toggleable__label {\n",
              "  background-color: var(--sklearn-color-fitted-level-2);\n",
              "}\n",
              "\n",
              "/* Estimator-specific style */\n",
              "\n",
              "/* Colorize estimator box */\n",
              "#sk-container-id-2 div.sk-estimator input.sk-toggleable__control:checked~label.sk-toggleable__label {\n",
              "  /* unfitted */\n",
              "  background-color: var(--sklearn-color-unfitted-level-2);\n",
              "}\n",
              "\n",
              "#sk-container-id-2 div.sk-estimator.fitted input.sk-toggleable__control:checked~label.sk-toggleable__label {\n",
              "  /* fitted */\n",
              "  background-color: var(--sklearn-color-fitted-level-2);\n",
              "}\n",
              "\n",
              "#sk-container-id-2 div.sk-label label.sk-toggleable__label,\n",
              "#sk-container-id-2 div.sk-label label {\n",
              "  /* The background is the default theme color */\n",
              "  color: var(--sklearn-color-text-on-default-background);\n",
              "}\n",
              "\n",
              "/* On hover, darken the color of the background */\n",
              "#sk-container-id-2 div.sk-label:hover label.sk-toggleable__label {\n",
              "  color: var(--sklearn-color-text);\n",
              "  background-color: var(--sklearn-color-unfitted-level-2);\n",
              "}\n",
              "\n",
              "/* Label box, darken color on hover, fitted */\n",
              "#sk-container-id-2 div.sk-label.fitted:hover label.sk-toggleable__label.fitted {\n",
              "  color: var(--sklearn-color-text);\n",
              "  background-color: var(--sklearn-color-fitted-level-2);\n",
              "}\n",
              "\n",
              "/* Estimator label */\n",
              "\n",
              "#sk-container-id-2 div.sk-label label {\n",
              "  font-family: monospace;\n",
              "  font-weight: bold;\n",
              "  display: inline-block;\n",
              "  line-height: 1.2em;\n",
              "}\n",
              "\n",
              "#sk-container-id-2 div.sk-label-container {\n",
              "  text-align: center;\n",
              "}\n",
              "\n",
              "/* Estimator-specific */\n",
              "#sk-container-id-2 div.sk-estimator {\n",
              "  font-family: monospace;\n",
              "  border: 1px dotted var(--sklearn-color-border-box);\n",
              "  border-radius: 0.25em;\n",
              "  box-sizing: border-box;\n",
              "  margin-bottom: 0.5em;\n",
              "  /* unfitted */\n",
              "  background-color: var(--sklearn-color-unfitted-level-0);\n",
              "}\n",
              "\n",
              "#sk-container-id-2 div.sk-estimator.fitted {\n",
              "  /* fitted */\n",
              "  background-color: var(--sklearn-color-fitted-level-0);\n",
              "}\n",
              "\n",
              "/* on hover */\n",
              "#sk-container-id-2 div.sk-estimator:hover {\n",
              "  /* unfitted */\n",
              "  background-color: var(--sklearn-color-unfitted-level-2);\n",
              "}\n",
              "\n",
              "#sk-container-id-2 div.sk-estimator.fitted:hover {\n",
              "  /* fitted */\n",
              "  background-color: var(--sklearn-color-fitted-level-2);\n",
              "}\n",
              "\n",
              "/* Specification for estimator info (e.g. \"i\" and \"?\") */\n",
              "\n",
              "/* Common style for \"i\" and \"?\" */\n",
              "\n",
              ".sk-estimator-doc-link,\n",
              "a:link.sk-estimator-doc-link,\n",
              "a:visited.sk-estimator-doc-link {\n",
              "  float: right;\n",
              "  font-size: smaller;\n",
              "  line-height: 1em;\n",
              "  font-family: monospace;\n",
              "  background-color: var(--sklearn-color-background);\n",
              "  border-radius: 1em;\n",
              "  height: 1em;\n",
              "  width: 1em;\n",
              "  text-decoration: none !important;\n",
              "  margin-left: 0.5em;\n",
              "  text-align: center;\n",
              "  /* unfitted */\n",
              "  border: var(--sklearn-color-unfitted-level-1) 1pt solid;\n",
              "  color: var(--sklearn-color-unfitted-level-1);\n",
              "}\n",
              "\n",
              ".sk-estimator-doc-link.fitted,\n",
              "a:link.sk-estimator-doc-link.fitted,\n",
              "a:visited.sk-estimator-doc-link.fitted {\n",
              "  /* fitted */\n",
              "  border: var(--sklearn-color-fitted-level-1) 1pt solid;\n",
              "  color: var(--sklearn-color-fitted-level-1);\n",
              "}\n",
              "\n",
              "/* On hover */\n",
              "div.sk-estimator:hover .sk-estimator-doc-link:hover,\n",
              ".sk-estimator-doc-link:hover,\n",
              "div.sk-label-container:hover .sk-estimator-doc-link:hover,\n",
              ".sk-estimator-doc-link:hover {\n",
              "  /* unfitted */\n",
              "  background-color: var(--sklearn-color-unfitted-level-3);\n",
              "  color: var(--sklearn-color-background);\n",
              "  text-decoration: none;\n",
              "}\n",
              "\n",
              "div.sk-estimator.fitted:hover .sk-estimator-doc-link.fitted:hover,\n",
              ".sk-estimator-doc-link.fitted:hover,\n",
              "div.sk-label-container:hover .sk-estimator-doc-link.fitted:hover,\n",
              ".sk-estimator-doc-link.fitted:hover {\n",
              "  /* fitted */\n",
              "  background-color: var(--sklearn-color-fitted-level-3);\n",
              "  color: var(--sklearn-color-background);\n",
              "  text-decoration: none;\n",
              "}\n",
              "\n",
              "/* Span, style for the box shown on hovering the info icon */\n",
              ".sk-estimator-doc-link span {\n",
              "  display: none;\n",
              "  z-index: 9999;\n",
              "  position: relative;\n",
              "  font-weight: normal;\n",
              "  right: .2ex;\n",
              "  padding: .5ex;\n",
              "  margin: .5ex;\n",
              "  width: min-content;\n",
              "  min-width: 20ex;\n",
              "  max-width: 50ex;\n",
              "  color: var(--sklearn-color-text);\n",
              "  box-shadow: 2pt 2pt 4pt #999;\n",
              "  /* unfitted */\n",
              "  background: var(--sklearn-color-unfitted-level-0);\n",
              "  border: .5pt solid var(--sklearn-color-unfitted-level-3);\n",
              "}\n",
              "\n",
              ".sk-estimator-doc-link.fitted span {\n",
              "  /* fitted */\n",
              "  background: var(--sklearn-color-fitted-level-0);\n",
              "  border: var(--sklearn-color-fitted-level-3);\n",
              "}\n",
              "\n",
              ".sk-estimator-doc-link:hover span {\n",
              "  display: block;\n",
              "}\n",
              "\n",
              "/* \"?\"-specific style due to the `<a>` HTML tag */\n",
              "\n",
              "#sk-container-id-2 a.estimator_doc_link {\n",
              "  float: right;\n",
              "  font-size: 1rem;\n",
              "  line-height: 1em;\n",
              "  font-family: monospace;\n",
              "  background-color: var(--sklearn-color-background);\n",
              "  border-radius: 1rem;\n",
              "  height: 1rem;\n",
              "  width: 1rem;\n",
              "  text-decoration: none;\n",
              "  /* unfitted */\n",
              "  color: var(--sklearn-color-unfitted-level-1);\n",
              "  border: var(--sklearn-color-unfitted-level-1) 1pt solid;\n",
              "}\n",
              "\n",
              "#sk-container-id-2 a.estimator_doc_link.fitted {\n",
              "  /* fitted */\n",
              "  border: var(--sklearn-color-fitted-level-1) 1pt solid;\n",
              "  color: var(--sklearn-color-fitted-level-1);\n",
              "}\n",
              "\n",
              "/* On hover */\n",
              "#sk-container-id-2 a.estimator_doc_link:hover {\n",
              "  /* unfitted */\n",
              "  background-color: var(--sklearn-color-unfitted-level-3);\n",
              "  color: var(--sklearn-color-background);\n",
              "  text-decoration: none;\n",
              "}\n",
              "\n",
              "#sk-container-id-2 a.estimator_doc_link.fitted:hover {\n",
              "  /* fitted */\n",
              "  background-color: var(--sklearn-color-fitted-level-3);\n",
              "}\n",
              "\n",
              ".estimator-table summary {\n",
              "    padding: .5rem;\n",
              "    font-family: monospace;\n",
              "    cursor: pointer;\n",
              "}\n",
              "\n",
              ".estimator-table details[open] {\n",
              "    padding-left: 0.1rem;\n",
              "    padding-right: 0.1rem;\n",
              "    padding-bottom: 0.3rem;\n",
              "}\n",
              "\n",
              ".estimator-table .parameters-table {\n",
              "    margin-left: auto !important;\n",
              "    margin-right: auto !important;\n",
              "}\n",
              "\n",
              ".estimator-table .parameters-table tr:nth-child(odd) {\n",
              "    background-color: #fff;\n",
              "}\n",
              "\n",
              ".estimator-table .parameters-table tr:nth-child(even) {\n",
              "    background-color: #f6f6f6;\n",
              "}\n",
              "\n",
              ".estimator-table .parameters-table tr:hover {\n",
              "    background-color: #e0e0e0;\n",
              "}\n",
              "\n",
              ".estimator-table table td {\n",
              "    border: 1px solid rgba(106, 105, 104, 0.232);\n",
              "}\n",
              "\n",
              ".user-set td {\n",
              "    color:rgb(255, 94, 0);\n",
              "    text-align: left;\n",
              "}\n",
              "\n",
              ".user-set td.value pre {\n",
              "    color:rgb(255, 94, 0) !important;\n",
              "    background-color: transparent !important;\n",
              "}\n",
              "\n",
              ".default td {\n",
              "    color: black;\n",
              "    text-align: left;\n",
              "}\n",
              "\n",
              ".user-set td i,\n",
              ".default td i {\n",
              "    color: black;\n",
              "}\n",
              "\n",
              ".copy-paste-icon {\n",
              "    background-image: url(data:image/svg+xml;base64,PHN2ZyB4bWxucz0iaHR0cDovL3d3dy53My5vcmcvMjAwMC9zdmciIHZpZXdCb3g9IjAgMCA0NDggNTEyIj48IS0tIUZvbnQgQXdlc29tZSBGcmVlIDYuNy4yIGJ5IEBmb250YXdlc29tZSAtIGh0dHBzOi8vZm9udGF3ZXNvbWUuY29tIExpY2Vuc2UgLSBodHRwczovL2ZvbnRhd2Vzb21lLmNvbS9saWNlbnNlL2ZyZWUgQ29weXJpZ2h0IDIwMjUgRm9udGljb25zLCBJbmMuLS0+PHBhdGggZD0iTTIwOCAwTDMzMi4xIDBjMTIuNyAwIDI0LjkgNS4xIDMzLjkgMTQuMWw2Ny45IDY3LjljOSA5IDE0LjEgMjEuMiAxNC4xIDMzLjlMNDQ4IDMzNmMwIDI2LjUtMjEuNSA0OC00OCA0OGwtMTkyIDBjLTI2LjUgMC00OC0yMS41LTQ4LTQ4bDAtMjg4YzAtMjYuNSAyMS41LTQ4IDQ4LTQ4ek00OCAxMjhsODAgMCAwIDY0LTY0IDAgMCAyNTYgMTkyIDAgMC0zMiA2NCAwIDAgNDhjMCAyNi41LTIxLjUgNDgtNDggNDhMNDggNTEyYy0yNi41IDAtNDgtMjEuNS00OC00OEwwIDE3NmMwLTI2LjUgMjEuNS00OCA0OC00OHoiLz48L3N2Zz4=);\n",
              "    background-repeat: no-repeat;\n",
              "    background-size: 14px 14px;\n",
              "    background-position: 0;\n",
              "    display: inline-block;\n",
              "    width: 14px;\n",
              "    height: 14px;\n",
              "    cursor: pointer;\n",
              "}\n",
              "</style><body><div id=\"sk-container-id-2\" class=\"sk-top-container\"><div class=\"sk-text-repr-fallback\"><pre>KMeans(n_clusters=3, n_init=10, random_state=42)</pre><b>In a Jupyter environment, please rerun this cell to show the HTML representation or trust the notebook. <br />On GitHub, the HTML representation is unable to render, please try loading this page with nbviewer.org.</b></div><div class=\"sk-container\" hidden><div class=\"sk-item\"><div class=\"sk-estimator fitted sk-toggleable\"><input class=\"sk-toggleable__control sk-hidden--visually\" id=\"sk-estimator-id-2\" type=\"checkbox\" checked><label for=\"sk-estimator-id-2\" class=\"sk-toggleable__label fitted sk-toggleable__label-arrow\"><div><div>KMeans</div></div><div><a class=\"sk-estimator-doc-link fitted\" rel=\"noreferrer\" target=\"_blank\" href=\"https://scikit-learn.org/1.7/modules/generated/sklearn.cluster.KMeans.html\">?<span>Documentation for KMeans</span></a><span class=\"sk-estimator-doc-link fitted\">i<span>Fitted</span></span></div></label><div class=\"sk-toggleable__content fitted\" data-param-prefix=\"\">\n",
              "        <div class=\"estimator-table\">\n",
              "            <details>\n",
              "                <summary>Parameters</summary>\n",
              "                <table class=\"parameters-table\">\n",
              "                  <tbody>\n",
              "                    \n",
              "        <tr class=\"user-set\">\n",
              "            <td><i class=\"copy-paste-icon\"\n",
              "                 onclick=\"copyToClipboard('n_clusters',\n",
              "                          this.parentElement.nextElementSibling)\"\n",
              "            ></i></td>\n",
              "            <td class=\"param\">n_clusters&nbsp;</td>\n",
              "            <td class=\"value\">3</td>\n",
              "        </tr>\n",
              "    \n",
              "\n",
              "        <tr class=\"default\">\n",
              "            <td><i class=\"copy-paste-icon\"\n",
              "                 onclick=\"copyToClipboard('init',\n",
              "                          this.parentElement.nextElementSibling)\"\n",
              "            ></i></td>\n",
              "            <td class=\"param\">init&nbsp;</td>\n",
              "            <td class=\"value\">&#x27;k-means++&#x27;</td>\n",
              "        </tr>\n",
              "    \n",
              "\n",
              "        <tr class=\"user-set\">\n",
              "            <td><i class=\"copy-paste-icon\"\n",
              "                 onclick=\"copyToClipboard('n_init',\n",
              "                          this.parentElement.nextElementSibling)\"\n",
              "            ></i></td>\n",
              "            <td class=\"param\">n_init&nbsp;</td>\n",
              "            <td class=\"value\">10</td>\n",
              "        </tr>\n",
              "    \n",
              "\n",
              "        <tr class=\"default\">\n",
              "            <td><i class=\"copy-paste-icon\"\n",
              "                 onclick=\"copyToClipboard('max_iter',\n",
              "                          this.parentElement.nextElementSibling)\"\n",
              "            ></i></td>\n",
              "            <td class=\"param\">max_iter&nbsp;</td>\n",
              "            <td class=\"value\">300</td>\n",
              "        </tr>\n",
              "    \n",
              "\n",
              "        <tr class=\"default\">\n",
              "            <td><i class=\"copy-paste-icon\"\n",
              "                 onclick=\"copyToClipboard('tol',\n",
              "                          this.parentElement.nextElementSibling)\"\n",
              "            ></i></td>\n",
              "            <td class=\"param\">tol&nbsp;</td>\n",
              "            <td class=\"value\">0.0001</td>\n",
              "        </tr>\n",
              "    \n",
              "\n",
              "        <tr class=\"default\">\n",
              "            <td><i class=\"copy-paste-icon\"\n",
              "                 onclick=\"copyToClipboard('verbose',\n",
              "                          this.parentElement.nextElementSibling)\"\n",
              "            ></i></td>\n",
              "            <td class=\"param\">verbose&nbsp;</td>\n",
              "            <td class=\"value\">0</td>\n",
              "        </tr>\n",
              "    \n",
              "\n",
              "        <tr class=\"user-set\">\n",
              "            <td><i class=\"copy-paste-icon\"\n",
              "                 onclick=\"copyToClipboard('random_state',\n",
              "                          this.parentElement.nextElementSibling)\"\n",
              "            ></i></td>\n",
              "            <td class=\"param\">random_state&nbsp;</td>\n",
              "            <td class=\"value\">42</td>\n",
              "        </tr>\n",
              "    \n",
              "\n",
              "        <tr class=\"default\">\n",
              "            <td><i class=\"copy-paste-icon\"\n",
              "                 onclick=\"copyToClipboard('copy_x',\n",
              "                          this.parentElement.nextElementSibling)\"\n",
              "            ></i></td>\n",
              "            <td class=\"param\">copy_x&nbsp;</td>\n",
              "            <td class=\"value\">True</td>\n",
              "        </tr>\n",
              "    \n",
              "\n",
              "        <tr class=\"default\">\n",
              "            <td><i class=\"copy-paste-icon\"\n",
              "                 onclick=\"copyToClipboard('algorithm',\n",
              "                          this.parentElement.nextElementSibling)\"\n",
              "            ></i></td>\n",
              "            <td class=\"param\">algorithm&nbsp;</td>\n",
              "            <td class=\"value\">&#x27;lloyd&#x27;</td>\n",
              "        </tr>\n",
              "    \n",
              "                  </tbody>\n",
              "                </table>\n",
              "            </details>\n",
              "        </div>\n",
              "    </div></div></div></div></div><script>function copyToClipboard(text, element) {\n",
              "    // Get the parameter prefix from the closest toggleable content\n",
              "    const toggleableContent = element.closest('.sk-toggleable__content');\n",
              "    const paramPrefix = toggleableContent ? toggleableContent.dataset.paramPrefix : '';\n",
              "    const fullParamName = paramPrefix ? `${paramPrefix}${text}` : text;\n",
              "\n",
              "    const originalStyle = element.style;\n",
              "    const computedStyle = window.getComputedStyle(element);\n",
              "    const originalWidth = computedStyle.width;\n",
              "    const originalHTML = element.innerHTML.replace('Copied!', '');\n",
              "\n",
              "    navigator.clipboard.writeText(fullParamName)\n",
              "        .then(() => {\n",
              "            element.style.width = originalWidth;\n",
              "            element.style.color = 'green';\n",
              "            element.innerHTML = \"Copied!\";\n",
              "\n",
              "            setTimeout(() => {\n",
              "                element.innerHTML = originalHTML;\n",
              "                element.style = originalStyle;\n",
              "            }, 2000);\n",
              "        })\n",
              "        .catch(err => {\n",
              "            console.error('Failed to copy:', err);\n",
              "            element.style.color = 'red';\n",
              "            element.innerHTML = \"Failed!\";\n",
              "            setTimeout(() => {\n",
              "                element.innerHTML = originalHTML;\n",
              "                element.style = originalStyle;\n",
              "            }, 2000);\n",
              "        });\n",
              "    return false;\n",
              "}\n",
              "\n",
              "document.querySelectorAll('.fa-regular.fa-copy').forEach(function(element) {\n",
              "    const toggleableContent = element.closest('.sk-toggleable__content');\n",
              "    const paramPrefix = toggleableContent ? toggleableContent.dataset.paramPrefix : '';\n",
              "    const paramName = element.parentElement.nextElementSibling.textContent.trim();\n",
              "    const fullParamName = paramPrefix ? `${paramPrefix}${paramName}` : paramName;\n",
              "\n",
              "    element.setAttribute('title', fullParamName);\n",
              "});\n",
              "</script></body>"
            ],
            "text/plain": [
              "KMeans(n_clusters=3, n_init=10, random_state=42)"
            ]
          },
          "execution_count": 43,
          "metadata": {},
          "output_type": "execute_result"
        }
      ],
      "source": [
        "kmeans = KMeans(n_clusters=3, random_state=42, n_init=10)\n",
        "kmeans.fit(CO2_PCA)"
      ]
    },
    {
      "cell_type": "markdown",
      "metadata": {
        "id": "0IZiCNUET-MW"
      },
      "source": [
        "### Đánh giá mô hình bằng SILHOUETTE_SCORE"
      ]
    },
    {
      "cell_type": "code",
      "execution_count": 44,
      "metadata": {
        "colab": {
          "base_uri": "https://localhost:8080/"
        },
        "id": "5NdXu8OGZupM",
        "outputId": "79cefe6d-ca19-456e-8fb8-6b046b1fc3cd"
      },
      "outputs": [
        {
          "name": "stdout",
          "output_type": "stream",
          "text": [
            "Processing K-Means with k = 3, Intertia = 34866.75598255408, Silhoutte Score = 0.9068651672076261\n",
            "Processing K-Means with k = 4, Intertia = 29074.226715985988, Silhoutte Score = 0.7932031414802158\n",
            "Processing K-Means with k = 5, Intertia = 26568.827187314826, Silhoutte Score = 0.778630770325459\n",
            "Processing K-Means with k = 6, Intertia = 22801.007122496772, Silhoutte Score = 0.5211514320787916\n",
            "Processing K-Means with k = 7, Intertia = 18306.94526660382, Silhoutte Score = 0.5481042015765726\n",
            "Processing K-Means with k = 8, Intertia = 15734.458555879017, Silhoutte Score = 0.5561521369230769\n",
            "Processing K-Means with k = 9, Intertia = 14594.971557267172, Silhoutte Score = 0.31871157421480856\n"
          ]
        },
        {
          "data": {
            "text/plain": [
              "[34866.75598255408,\n",
              " 29074.226715985988,\n",
              " 26568.827187314826,\n",
              " 22801.007122496772,\n",
              " 18306.94526660382,\n",
              " 15734.458555879017,\n",
              " 14594.971557267172]"
            ]
          },
          "execution_count": 44,
          "metadata": {},
          "output_type": "execute_result"
        }
      ],
      "source": [
        "from sklearn.metrics import r2_score, silhouette_score\n",
        "\n",
        "km_inertias, km_scores = [], []\n",
        "for k in range(3, 10):\n",
        "    km = KMeans(n_clusters=k).fit(X)\n",
        "    km_inertias.append(km.inertia_)\n",
        "    km_scores.append(silhouette_score(X, km.labels_))\n",
        "    print(f\"Processing K-Means with k = {k}, Intertia = {km.inertia_}, Silhoutte Score = {silhouette_score(X, km.labels_)}\")\n",
        "km_inertias"
      ]
    },
    {
      "cell_type": "code",
      "execution_count": 45,
      "metadata": {
        "colab": {
          "base_uri": "https://localhost:8080/",
          "height": 454
        },
        "id": "OvBdC5R_ZKqh",
        "outputId": "7f778408-cf8a-440d-b89c-48e7185527c0"
      },
      "outputs": [
        {
          "data": {
            "image/png": "[encoded data removed]",
            "text/plain": [
              "<Figure size 640x480 with 1 Axes>"
            ]
          },
          "metadata": {},
          "output_type": "display_data"
        }
      ],
      "source": [
        "sns.lineplot (x=range(3,10), y=km_scores)\n",
        "plt.title('Đánh giá điểm số theo số cụm K')\n",
        "plt.show()"
      ]
    },
    {
      "cell_type": "code",
      "execution_count": 46,
      "metadata": {
        "colab": {
          "base_uri": "https://localhost:8080/",
          "height": 815
        },
        "id": "mP6uD74sJ0lT",
        "outputId": "ba659a38-43f6-440d-822b-80a70c0de339"
      },
      "outputs": [
        {
          "name": "stdout",
          "output_type": "stream",
          "text": [
            "=== Thành phần PCA ===\n"
          ]
        },
        {
          "data": {
            "text/html": [
              "<div>\n",
              "<style scoped>\n",
              "    .dataframe tbody tr th:only-of-type {\n",
              "        vertical-align: middle;\n",
              "    }\n",
              "\n",
              "    .dataframe tbody tr th {\n",
              "        vertical-align: top;\n",
              "    }\n",
              "\n",
              "    .dataframe thead th {\n",
              "        text-align: right;\n",
              "    }\n",
              "</style>\n",
              "<table border=\"1\" class=\"dataframe\">\n",
              "  <thead>\n",
              "    <tr style=\"text-align: right;\">\n",
              "      <th></th>\n",
              "      <th>PC1</th>\n",
              "      <th>PC2</th>\n",
              "    </tr>\n",
              "  </thead>\n",
              "  <tbody>\n",
              "    <tr>\n",
              "      <th>population</th>\n",
              "      <td>0.280249</td>\n",
              "      <td>-0.274358</td>\n",
              "    </tr>\n",
              "    <tr>\n",
              "      <th>gdp</th>\n",
              "      <td>0.344343</td>\n",
              "      <td>0.047939</td>\n",
              "    </tr>\n",
              "    <tr>\n",
              "      <th>co2</th>\n",
              "      <td>0.356708</td>\n",
              "      <td>-0.091329</td>\n",
              "    </tr>\n",
              "    <tr>\n",
              "      <th>co2_per_capita</th>\n",
              "      <td>0.001989</td>\n",
              "      <td>0.043898</td>\n",
              "    </tr>\n",
              "    <tr>\n",
              "      <th>co2_per_gdp</th>\n",
              "      <td>0.003930</td>\n",
              "      <td>0.029923</td>\n",
              "    </tr>\n",
              "    <tr>\n",
              "      <th>co2_growth_abs</th>\n",
              "      <td>0.171056</td>\n",
              "      <td>-0.427037</td>\n",
              "    </tr>\n",
              "    <tr>\n",
              "      <th>co2_growth_prct</th>\n",
              "      <td>-0.002331</td>\n",
              "      <td>-0.017625</td>\n",
              "    </tr>\n",
              "    <tr>\n",
              "      <th>cement_co2</th>\n",
              "      <td>0.285972</td>\n",
              "      <td>-0.379906</td>\n",
              "    </tr>\n",
              "    <tr>\n",
              "      <th>coal_co2</th>\n",
              "      <td>0.318024</td>\n",
              "      <td>-0.299388</td>\n",
              "    </tr>\n",
              "    <tr>\n",
              "      <th>flaring_co2</th>\n",
              "      <td>0.201006</td>\n",
              "      <td>0.447373</td>\n",
              "    </tr>\n",
              "    <tr>\n",
              "      <th>gas_co2</th>\n",
              "      <td>0.282734</td>\n",
              "      <td>0.392281</td>\n",
              "    </tr>\n",
              "    <tr>\n",
              "      <th>land_use_change_co2</th>\n",
              "      <td>0.046114</td>\n",
              "      <td>0.097521</td>\n",
              "    </tr>\n",
              "    <tr>\n",
              "      <th>oil_co2</th>\n",
              "      <td>0.330350</td>\n",
              "      <td>0.214921</td>\n",
              "    </tr>\n",
              "    <tr>\n",
              "      <th>primary_energy_consumption</th>\n",
              "      <td>0.359765</td>\n",
              "      <td>0.000094</td>\n",
              "    </tr>\n",
              "    <tr>\n",
              "      <th>temperature_change_from_co2</th>\n",
              "      <td>0.320022</td>\n",
              "      <td>0.291383</td>\n",
              "    </tr>\n",
              "  </tbody>\n",
              "</table>\n",
              "</div>"
            ],
            "text/plain": [
              "                                  PC1       PC2\n",
              "population                   0.280249 -0.274358\n",
              "gdp                          0.344343  0.047939\n",
              "co2                          0.356708 -0.091329\n",
              "co2_per_capita               0.001989  0.043898\n",
              "co2_per_gdp                  0.003930  0.029923\n",
              "co2_growth_abs               0.171056 -0.427037\n",
              "co2_growth_prct             -0.002331 -0.017625\n",
              "cement_co2                   0.285972 -0.379906\n",
              "coal_co2                     0.318024 -0.299388\n",
              "flaring_co2                  0.201006  0.447373\n",
              "gas_co2                      0.282734  0.392281\n",
              "land_use_change_co2          0.046114  0.097521\n",
              "oil_co2                      0.330350  0.214921\n",
              "primary_energy_consumption   0.359765  0.000094\n",
              "temperature_change_from_co2  0.320022  0.291383"
            ]
          },
          "metadata": {},
          "output_type": "display_data"
        },
        {
          "name": "stdout",
          "output_type": "stream",
          "text": [
            "\n",
            "Top biến ảnh hưởng đến PC1:\n",
            "primary_energy_consumption     0.359765\n",
            "co2                            0.356708\n",
            "gdp                            0.344343\n",
            "oil_co2                        0.330350\n",
            "temperature_change_from_co2    0.320022\n",
            "Name: PC1, dtype: float64\n",
            "\n",
            "Top biến ảnh hưởng đến PC2:\n",
            "flaring_co2       0.447373\n",
            "co2_growth_abs    0.427037\n",
            "gas_co2           0.392281\n",
            "cement_co2        0.379906\n",
            "coal_co2          0.299388\n",
            "Name: PC2, dtype: float64\n"
          ]
        }
      ],
      "source": [
        "# Hiển thị ma trận thành phần (loadings)\n",
        "pca_components = pd.DataFrame(\n",
        "    pca.components_,\n",
        "    columns=numeric_cols,\n",
        "    index=[f\"PC{i+1}\" for i in range(pca.n_components_)]\n",
        ")\n",
        "\n",
        "# Xem biến nào ảnh hưởng mạnh nhất tới PC1 và PC2\n",
        "print(\"=== Thành phần PCA ===\")\n",
        "display(pca_components.T)  # Hiển thị toàn bộ\n",
        "\n",
        "# Hoặc chỉ lấy top biến có ảnh hưởng lớn nhất\n",
        "print(\"\\nTop biến ảnh hưởng đến PC1:\")\n",
        "print(pca_components.loc[\"PC1\"].abs().sort_values(ascending=False).head(5))\n",
        "\n",
        "print(\"\\nTop biến ảnh hưởng đến PC2:\")\n",
        "print(pca_components.loc[\"PC2\"].abs().sort_values(ascending=False).head(5))\n"
      ]
    },
    {
      "cell_type": "markdown",
      "metadata": {
        "id": "H5A8nZtsfkb_"
      },
      "source": [
        "Xem giá trị trung bình của mỗi cụm"
      ]
    },
    {
      "cell_type": "code",
      "execution_count": 47,
      "metadata": {
        "colab": {
          "base_uri": "https://localhost:8080/"
        },
        "id": "2883PSEGe5ay",
        "outputId": "58a9b876-7235-435e-8ee9-7f1aa75fc2b1"
      },
      "outputs": [
        {
          "name": "stdout",
          "output_type": "stream",
          "text": [
            "cluster\n",
            "0      94.538423\n",
            "1    5562.299542\n",
            "2    8776.318136\n",
            "Name: co2, dtype: float64\n"
          ]
        }
      ],
      "source": [
        "# Đảm bảo cột CO2 là số\n",
        "df_country[\"co2\"] = pd.to_numeric(df_country[\"co2\"], errors=\"coerce\")\n",
        "\n",
        "# Gán nhãn cluster cho dữ liệu gốc\n",
        "df_country[\"cluster\"] = kmeans.labels_\n",
        "\n",
        "# Tính trung bình CO2 theo cụm\n",
        "cluster_summary = (\n",
        "    df_country.groupby(\"cluster\")[\"co2\"]\n",
        "    .mean()\n",
        "    .sort_values()\n",
        ")\n",
        "print(cluster_summary)\n"
      ]
    },
    {
      "cell_type": "code",
      "execution_count": 48,
      "metadata": {
        "colab": {
          "base_uri": "https://localhost:8080/",
          "height": 566
        },
        "id": "2o_GQXxsfbVU",
        "outputId": "8f0bcaf6-41e1-41a3-c157-f9cfccb53742"
      },
      "outputs": [
        {
          "data": {
            "image/png": "[encoded data removed]",
            "text/plain": [
              "<Figure size 800x600 with 1 Axes>"
            ]
          },
          "metadata": {},
          "output_type": "display_data"
        }
      ],
      "source": [
        "import matplotlib.pyplot as plt\n",
        "import numpy as np\n",
        "\n",
        "# Tạo mapping cụm → mức phát thải\n",
        "cluster_labels = {\n",
        "    0: \"Phát thải thấp\",\n",
        "    1: \"Phát thải trung bình\",\n",
        "    2: \"Phát thải cao\"\n",
        "}\n",
        "\n",
        "# Tạo mapping màu tương ứng\n",
        "colors = {\n",
        "    0: \"teal\",     # thấp\n",
        "    1: \"purple\",       # trung bình\n",
        "    2: \"red\"        # cao\n",
        "}\n",
        "\n",
        "# Vẽ scatter với màu theo mức phát thải\n",
        "plt.figure(figsize=(8,6))\n",
        "for cluster_id, label in cluster_labels.items():\n",
        "    mask = kmeans.labels_ == cluster_id\n",
        "    plt.scatter(\n",
        "        CO2_PCA[mask, 0],\n",
        "        CO2_PCA[mask, 1],\n",
        "        c=colors[cluster_id],\n",
        "        label=label,\n",
        "        s=40,\n",
        "        alpha=0.8\n",
        "    )\n",
        "\n",
        "plt.xlabel(\"First Principal Component\")\n",
        "plt.ylabel(\"Second Principal Component\")\n",
        "plt.title(\"Phân cụm các quốc gia theo mức phát thải CO₂ trung bình (2000–2023)\")\n",
        "plt.legend(title=\"Nhóm phát thải\")\n",
        "plt.show()\n"
      ]
    },
    {
      "cell_type": "markdown",
      "metadata": {
        "id": "0bb2a067"
      },
      "source": [
        "### Gán nhãn cụm\n"
      ]
    },
    {
      "cell_type": "code",
      "execution_count": 49,
      "metadata": {
        "colab": {
          "base_uri": "https://localhost:8080/",
          "height": 226
        },
        "id": "75a4da98",
        "outputId": "61d614ad-8903-4ced-ac91-9e214e7f109a"
      },
      "outputs": [
        {
          "data": {
            "text/html": [
              "<div>\n",
              "<style scoped>\n",
              "    .dataframe tbody tr th:only-of-type {\n",
              "        vertical-align: middle;\n",
              "    }\n",
              "\n",
              "    .dataframe tbody tr th {\n",
              "        vertical-align: top;\n",
              "    }\n",
              "\n",
              "    .dataframe thead th {\n",
              "        text-align: right;\n",
              "    }\n",
              "</style>\n",
              "<table border=\"1\" class=\"dataframe\">\n",
              "  <thead>\n",
              "    <tr style=\"text-align: right;\">\n",
              "      <th></th>\n",
              "      <th>Description</th>\n",
              "      <th>Name</th>\n",
              "      <th>year</th>\n",
              "      <th>iso_code</th>\n",
              "      <th>population</th>\n",
              "      <th>gdp</th>\n",
              "      <th>co2</th>\n",
              "      <th>co2_per_capita</th>\n",
              "      <th>co2_per_gdp</th>\n",
              "      <th>co2_growth_abs</th>\n",
              "      <th>...</th>\n",
              "      <th>cement_co2</th>\n",
              "      <th>coal_co2</th>\n",
              "      <th>flaring_co2</th>\n",
              "      <th>gas_co2</th>\n",
              "      <th>land_use_change_co2</th>\n",
              "      <th>oil_co2</th>\n",
              "      <th>primary_energy_consumption</th>\n",
              "      <th>temperature_change_from_co2</th>\n",
              "      <th>cluster</th>\n",
              "      <th>cluster_label</th>\n",
              "    </tr>\n",
              "  </thead>\n",
              "  <tbody>\n",
              "    <tr>\n",
              "      <th>0</th>\n",
              "      <td>Country</td>\n",
              "      <td>Afghanistan</td>\n",
              "      <td>2000</td>\n",
              "      <td>AFG</td>\n",
              "      <td>20130334.0</td>\n",
              "      <td>1.128379e+10</td>\n",
              "      <td>1.047</td>\n",
              "      <td>0.052</td>\n",
              "      <td>0.093</td>\n",
              "      <td>-0.045</td>\n",
              "      <td>...</td>\n",
              "      <td>0.010</td>\n",
              "      <td>0.004</td>\n",
              "      <td>0.022</td>\n",
              "      <td>0.224</td>\n",
              "      <td>0.057</td>\n",
              "      <td>0.788</td>\n",
              "      <td>5.914</td>\n",
              "      <td>0.000</td>\n",
              "      <td>0</td>\n",
              "      <td>0</td>\n",
              "    </tr>\n",
              "    <tr>\n",
              "      <th>1</th>\n",
              "      <td>Country</td>\n",
              "      <td>Albania</td>\n",
              "      <td>2000</td>\n",
              "      <td>ALB</td>\n",
              "      <td>3166147.0</td>\n",
              "      <td>1.473684e+10</td>\n",
              "      <td>3.025</td>\n",
              "      <td>0.053</td>\n",
              "      <td>0.097</td>\n",
              "      <td>0.039</td>\n",
              "      <td>...</td>\n",
              "      <td>0.094</td>\n",
              "      <td>0.070</td>\n",
              "      <td>0.000</td>\n",
              "      <td>0.022</td>\n",
              "      <td>-0.087</td>\n",
              "      <td>2.840</td>\n",
              "      <td>28.732</td>\n",
              "      <td>0.000</td>\n",
              "      <td>0</td>\n",
              "      <td>0</td>\n",
              "    </tr>\n",
              "    <tr>\n",
              "      <th>2</th>\n",
              "      <td>Country</td>\n",
              "      <td>Algeria</td>\n",
              "      <td>2000</td>\n",
              "      <td>DZA</td>\n",
              "      <td>30903895.0</td>\n",
              "      <td>2.085540e+11</td>\n",
              "      <td>85.399</td>\n",
              "      <td>0.063</td>\n",
              "      <td>0.071</td>\n",
              "      <td>-6.051</td>\n",
              "      <td>...</td>\n",
              "      <td>3.789</td>\n",
              "      <td>1.960</td>\n",
              "      <td>14.287</td>\n",
              "      <td>38.534</td>\n",
              "      <td>5.087</td>\n",
              "      <td>26.828</td>\n",
              "      <td>299.946</td>\n",
              "      <td>0.001</td>\n",
              "      <td>0</td>\n",
              "      <td>0</td>\n",
              "    </tr>\n",
              "    <tr>\n",
              "      <th>3</th>\n",
              "      <td>Country</td>\n",
              "      <td>Andorra</td>\n",
              "      <td>2000</td>\n",
              "      <td>AND</td>\n",
              "      <td>65703.0</td>\n",
              "      <td>NaN</td>\n",
              "      <td>0.524</td>\n",
              "      <td>0.069</td>\n",
              "      <td>0.074</td>\n",
              "      <td>0.011</td>\n",
              "      <td>...</td>\n",
              "      <td>0.000</td>\n",
              "      <td>0.000</td>\n",
              "      <td>0.000</td>\n",
              "      <td>NaN</td>\n",
              "      <td>0.029</td>\n",
              "      <td>0.524</td>\n",
              "      <td>NaN</td>\n",
              "      <td>0.000</td>\n",
              "      <td>0</td>\n",
              "      <td>0</td>\n",
              "    </tr>\n",
              "    <tr>\n",
              "      <th>4</th>\n",
              "      <td>Country</td>\n",
              "      <td>Angola</td>\n",
              "      <td>2000</td>\n",
              "      <td>AGO</td>\n",
              "      <td>16194872.0</td>\n",
              "      <td>2.351218e+10</td>\n",
              "      <td>15.995</td>\n",
              "      <td>0.053</td>\n",
              "      <td>0.055</td>\n",
              "      <td>-1.266</td>\n",
              "      <td>...</td>\n",
              "      <td>0.081</td>\n",
              "      <td>NaN</td>\n",
              "      <td>11.162</td>\n",
              "      <td>1.085</td>\n",
              "      <td>23.296</td>\n",
              "      <td>3.668</td>\n",
              "      <td>32.448</td>\n",
              "      <td>0.002</td>\n",
              "      <td>0</td>\n",
              "      <td>0</td>\n",
              "    </tr>\n",
              "  </tbody>\n",
              "</table>\n",
              "<p>5 rows × 21 columns</p>\n",
              "</div>"
            ],
            "text/plain": [
              "  Description         Name  year iso_code  population           gdp     co2  \\\n",
              "0     Country  Afghanistan  2000      AFG  20130334.0  1.128379e+10   1.047   \n",
              "1     Country      Albania  2000      ALB   3166147.0  1.473684e+10   3.025   \n",
              "2     Country      Algeria  2000      DZA  30903895.0  2.085540e+11  85.399   \n",
              "3     Country      Andorra  2000      AND     65703.0           NaN   0.524   \n",
              "4     Country       Angola  2000      AGO  16194872.0  2.351218e+10  15.995   \n",
              "\n",
              "   co2_per_capita  co2_per_gdp  co2_growth_abs  ...  cement_co2  coal_co2  \\\n",
              "0           0.052        0.093          -0.045  ...       0.010     0.004   \n",
              "1           0.053        0.097           0.039  ...       0.094     0.070   \n",
              "2           0.063        0.071          -6.051  ...       3.789     1.960   \n",
              "3           0.069        0.074           0.011  ...       0.000     0.000   \n",
              "4           0.053        0.055          -1.266  ...       0.081       NaN   \n",
              "\n",
              "   flaring_co2  gas_co2  land_use_change_co2  oil_co2  \\\n",
              "0        0.022    0.224                0.057    0.788   \n",
              "1        0.000    0.022               -0.087    2.840   \n",
              "2       14.287   38.534                5.087   26.828   \n",
              "3        0.000      NaN                0.029    0.524   \n",
              "4       11.162    1.085               23.296    3.668   \n",
              "\n",
              "   primary_energy_consumption  temperature_change_from_co2  cluster  \\\n",
              "0                       5.914                        0.000        0   \n",
              "1                      28.732                        0.000        0   \n",
              "2                     299.946                        0.001        0   \n",
              "3                         NaN                        0.000        0   \n",
              "4                      32.448                        0.002        0   \n",
              "\n",
              "   cluster_label  \n",
              "0              0  \n",
              "1              0  \n",
              "2              0  \n",
              "3              0  \n",
              "4              0  \n",
              "\n",
              "[5 rows x 21 columns]"
            ]
          },
          "metadata": {},
          "output_type": "display_data"
        }
      ],
      "source": [
        "df_country['cluster_label'] = kmeans.labels_\n",
        "display(df_country.head())"
      ]
    },
    {
      "cell_type": "markdown",
      "metadata": {
        "id": "0ad89a1e"
      },
      "source": [
        "### Tính trung bình lượng phát thải co2 theo cụm và năm\n"
      ]
    },
    {
      "cell_type": "code",
      "execution_count": 50,
      "metadata": {
        "id": "31fdd4bb"
      },
      "outputs": [],
      "source": [
        "df_cluster_trend = df_country.groupby(['cluster_label', 'year'])['co2'].mean().reset_index()"
      ]
    },
    {
      "cell_type": "code",
      "execution_count": 51,
      "metadata": {
        "colab": {
          "base_uri": "https://localhost:8080/",
          "height": 206
        },
        "id": "c8bf9426",
        "outputId": "601161bc-06f3-4e3f-9452-a621d0ee67f6"
      },
      "outputs": [
        {
          "data": {
            "text/html": [
              "<div>\n",
              "<style scoped>\n",
              "    .dataframe tbody tr th:only-of-type {\n",
              "        vertical-align: middle;\n",
              "    }\n",
              "\n",
              "    .dataframe tbody tr th {\n",
              "        vertical-align: top;\n",
              "    }\n",
              "\n",
              "    .dataframe thead th {\n",
              "        text-align: right;\n",
              "    }\n",
              "</style>\n",
              "<table border=\"1\" class=\"dataframe\">\n",
              "  <thead>\n",
              "    <tr style=\"text-align: right;\">\n",
              "      <th></th>\n",
              "      <th>cluster_label</th>\n",
              "      <th>year</th>\n",
              "      <th>co2</th>\n",
              "    </tr>\n",
              "  </thead>\n",
              "  <tbody>\n",
              "    <tr>\n",
              "      <th>0</th>\n",
              "      <td>0</td>\n",
              "      <td>2000</td>\n",
              "      <td>96.174072</td>\n",
              "    </tr>\n",
              "    <tr>\n",
              "      <th>1</th>\n",
              "      <td>0</td>\n",
              "      <td>2001</td>\n",
              "      <td>97.755567</td>\n",
              "    </tr>\n",
              "    <tr>\n",
              "      <th>2</th>\n",
              "      <td>0</td>\n",
              "      <td>2002</td>\n",
              "      <td>79.649207</td>\n",
              "    </tr>\n",
              "    <tr>\n",
              "      <th>3</th>\n",
              "      <td>0</td>\n",
              "      <td>2003</td>\n",
              "      <td>82.519617</td>\n",
              "    </tr>\n",
              "    <tr>\n",
              "      <th>4</th>\n",
              "      <td>0</td>\n",
              "      <td>2004</td>\n",
              "      <td>84.652777</td>\n",
              "    </tr>\n",
              "  </tbody>\n",
              "</table>\n",
              "</div>"
            ],
            "text/plain": [
              "   cluster_label  year        co2\n",
              "0              0  2000  96.174072\n",
              "1              0  2001  97.755567\n",
              "2              0  2002  79.649207\n",
              "3              0  2003  82.519617\n",
              "4              0  2004  84.652777"
            ]
          },
          "metadata": {},
          "output_type": "display_data"
        }
      ],
      "source": [
        "display(df_cluster_trend.head())"
      ]
    },
    {
      "cell_type": "markdown",
      "metadata": {
        "id": "0c35d5d8"
      },
      "source": [
        "### Trực quan hóa\n"
      ]
    },
    {
      "cell_type": "code",
      "execution_count": 52,
      "metadata": {
        "colab": {
          "base_uri": "https://localhost:8080/",
          "height": 542
        },
        "id": "7b8d9c42",
        "outputId": "14116ed8-c0cf-4fb3-ebaf-2df7c0619fcc"
      },
      "outputs": [
        {
          "data": {
            "application/vnd.plotly.v1+json": {
              "config": {
                "plotlyServerURL": "https://plot.ly"
              },
              "data": [
                {
                  "hovertemplate": "cluster_label_text=Phát thải thấp<br>year=%{x}<br>co2=%{y}<extra></extra>",
                  "legendgroup": "Phát thải thấp",
                  "line": {
                    "color": "teal",
                    "dash": "solid"
                  },
                  "marker": {
                    "size": 8,
                    "symbol": "circle"
                  },
                  "mode": "lines+markers",
                  "name": "Phát thải thấp",
                  "orientation": "v",
                  "showlegend": true,
                  "type": "scatter",
                  "x": {
                    "bdata": "0AfRB9IH0wfUB9UH1gfXB9gH2QfaB9sH3AfdB94H3wfgB+EH4gfjB+QH5QfmB+cH",
                    "dtype": "i2"
                  },
                  "xaxis": "x",
                  "y": {
                    "bdata": "PuaT/yMLWEDBzbs1W3BYQA3xlJyM6VNAQbnmZUGhVEB2ngcaxylVQGnTsVK7f1VA7+cL9vEOVkDDf1jcn2tWQGP40I87t1ZAWcq/XosiVkDOLKp37zVXQFGUc4QWpldA+w92Uok/WEBFRspS/jVYQPmQSpHUSFhAKKJ7QcmKWEC0fPgTntNYQF5N6XbCQllAIbthfgKJWUDwXhG3zKxZQFLicFrZGVhAfw2o3wdaWUAZ+ps5p6VZQN9532xcqllA",
                    "dtype": "f8"
                  },
                  "yaxis": "y"
                },
                {
                  "hovertemplate": "cluster_label_text=Phát thải trung bình<br>year=%{x}<br>co2=%{y}<extra></extra>",
                  "legendgroup": "Phát thải trung bình",
                  "line": {
                    "color": "purple",
                    "dash": "solid"
                  },
                  "marker": {
                    "size": 8,
                    "symbol": "circle"
                  },
                  "mode": "lines+markers",
                  "name": "Phát thải trung bình",
                  "orientation": "v",
                  "showlegend": true,
                  "type": "scatter",
                  "x": {
                    "bdata": "0AfRB9IH0wfUB9UH1gfXB9gH2QfaB9sH3AfdB94H3wfgB+EH4gfjB+QH5QfmB+cH",
                    "dtype": "i2"
                  },
                  "xaxis": "x",
                  "y": {
                    "bdata": "QmDl0CJ6t0AK16NwvRO3QCuHFtlOOrdAN4lBYCV6t0DhehSup+C3QCuHFtku9LdADi2yna+kt0Boke18H/K3QDm0yHYeG7dA5dAi27lotUCkcD0Kty+2QFYOLbIdqrVAdZMYBBbgtEB56SYxKGi1QJMYBFaumLVAAiuHFnkAtUDfT42X7oS0QPT91HgpXLRA6SYxCMwBtUDsUbgeJY60QOOlm8SgarJADAIrhzaos0DRItv53tazQLx0kxhkL7NA",
                    "dtype": "f8"
                  },
                  "yaxis": "y"
                },
                {
                  "hovertemplate": "cluster_label_text=Phát thải cao<br>year=%{x}<br>co2=%{y}<extra></extra>",
                  "legendgroup": "Phát thải cao",
                  "line": {
                    "color": "red",
                    "dash": "solid"
                  },
                  "marker": {
                    "size": 8,
                    "symbol": "circle"
                  },
                  "mode": "lines+markers",
                  "name": "Phát thải cao",
                  "orientation": "v",
                  "showlegend": true,
                  "type": "scatter",
                  "x": {
                    "bdata": "0gfTB9QH1QfWB9cH2AfZB9oH2wfcB90H3gffB+AH4QfiB+MH5AflB+YH5wc=",
                    "dtype": "i2"
                  },
                  "xaxis": "x",
                  "y": {
                    "bdata": "nu+nxgsHsEA5tMh2HumyQOXQIttZYbRAYOXQIhv6tkD6fmq8VF65QOkmMQiMR7tAaJHtfH9NvUAX2c73E9O+QD81XrpJ1sBAI9v5fiqewkA3iUFgpRnDQDEIrBwqcsNAiUFg5SCDw0Aj2/l+ukPDQKwcWmRbEcNARIts5yuLw0DRItv5fi7EQKJFtvP97MRAEFg5tNhMxUCgGi/d9FvGQKAaL91EK8ZA8tJNYkA/x0A=",
                    "dtype": "f8"
                  },
                  "yaxis": "y"
                }
              ],
              "layout": {
                "legend": {
                  "title": {
                    "text": "Nhóm phát thải"
                  },
                  "tracegroupgap": 0
                },
                "template": {
                  "data": {
                    "bar": [
                      {
                        "error_x": {
                          "color": "#2a3f5f"
                        },
                        "error_y": {
                          "color": "#2a3f5f"
                        },
                        "marker": {
                          "line": {
                            "color": "#E5ECF6",
                            "width": 0.5
                          },
                          "pattern": {
                            "fillmode": "overlay",
                            "size": 10,
                            "solidity": 0.2
                          }
                        },
                        "type": "bar"
                      }
                    ],
                    "barpolar": [
                      {
                        "marker": {
                          "line": {
                            "color": "#E5ECF6",
                            "width": 0.5
                          },
                          "pattern": {
                            "fillmode": "overlay",
                            "size": 10,
                            "solidity": 0.2
                          }
                        },
                        "type": "barpolar"
                      }
                    ],
                    "carpet": [
                      {
                        "aaxis": {
                          "endlinecolor": "#2a3f5f",
                          "gridcolor": "white",
                          "linecolor": "white",
                          "minorgridcolor": "white",
                          "startlinecolor": "#2a3f5f"
                        },
                        "baxis": {
                          "endlinecolor": "#2a3f5f",
                          "gridcolor": "white",
                          "linecolor": "white",
                          "minorgridcolor": "white",
                          "startlinecolor": "#2a3f5f"
                        },
                        "type": "carpet"
                      }
                    ],
                    "choropleth": [
                      {
                        "colorbar": {
                          "outlinewidth": 0,
                          "ticks": ""
                        },
                        "type": "choropleth"
                      }
                    ],
                    "contour": [
                      {
                        "colorbar": {
                          "outlinewidth": 0,
                          "ticks": ""
                        },
                        "colorscale": [
                          [
                            0,
                            "#0d0887"
                          ],
                          [
                            0.1111111111111111,
                            "#46039f"
                          ],
                          [
                            0.2222222222222222,
                            "#7201a8"
                          ],
                          [
                            0.3333333333333333,
                            "#9c179e"
                          ],
                          [
                            0.4444444444444444,
                            "#bd3786"
                          ],
                          [
                            0.5555555555555556,
                            "#d8576b"
                          ],
                          [
                            0.6666666666666666,
                            "#ed7953"
                          ],
                          [
                            0.7777777777777778,
                            "#fb9f3a"
                          ],
                          [
                            0.8888888888888888,
                            "#fdca26"
                          ],
                          [
                            1,
                            "#f0f921"
                          ]
                        ],
                        "type": "contour"
                      }
                    ],
                    "contourcarpet": [
                      {
                        "colorbar": {
                          "outlinewidth": 0,
                          "ticks": ""
                        },
                        "type": "contourcarpet"
                      }
                    ],
                    "heatmap": [
                      {
                        "colorbar": {
                          "outlinewidth": 0,
                          "ticks": ""
                        },
                        "colorscale": [
                          [
                            0,
                            "#0d0887"
                          ],
                          [
                            0.1111111111111111,
                            "#46039f"
                          ],
                          [
                            0.2222222222222222,
                            "#7201a8"
                          ],
                          [
                            0.3333333333333333,
                            "#9c179e"
                          ],
                          [
                            0.4444444444444444,
                            "#bd3786"
                          ],
                          [
                            0.5555555555555556,
                            "#d8576b"
                          ],
                          [
                            0.6666666666666666,
                            "#ed7953"
                          ],
                          [
                            0.7777777777777778,
                            "#fb9f3a"
                          ],
                          [
                            0.8888888888888888,
                            "#fdca26"
                          ],
                          [
                            1,
                            "#f0f921"
                          ]
                        ],
                        "type": "heatmap"
                      }
                    ],
                    "histogram": [
                      {
                        "marker": {
                          "pattern": {
                            "fillmode": "overlay",
                            "size": 10,
                            "solidity": 0.2
                          }
                        },
                        "type": "histogram"
                      }
                    ],
                    "histogram2d": [
                      {
                        "colorbar": {
                          "outlinewidth": 0,
                          "ticks": ""
                        },
                        "colorscale": [
                          [
                            0,
                            "#0d0887"
                          ],
                          [
                            0.1111111111111111,
                            "#46039f"
                          ],
                          [
                            0.2222222222222222,
                            "#7201a8"
                          ],
                          [
                            0.3333333333333333,
                            "#9c179e"
                          ],
                          [
                            0.4444444444444444,
                            "#bd3786"
                          ],
                          [
                            0.5555555555555556,
                            "#d8576b"
                          ],
                          [
                            0.6666666666666666,
                            "#ed7953"
                          ],
                          [
                            0.7777777777777778,
                            "#fb9f3a"
                          ],
                          [
                            0.8888888888888888,
                            "#fdca26"
                          ],
                          [
                            1,
                            "#f0f921"
                          ]
                        ],
                        "type": "histogram2d"
                      }
                    ],
                    "histogram2dcontour": [
                      {
                        "colorbar": {
                          "outlinewidth": 0,
                          "ticks": ""
                        },
                        "colorscale": [
                          [
                            0,
                            "#0d0887"
                          ],
                          [
                            0.1111111111111111,
                            "#46039f"
                          ],
                          [
                            0.2222222222222222,
                            "#7201a8"
                          ],
                          [
                            0.3333333333333333,
                            "#9c179e"
                          ],
                          [
                            0.4444444444444444,
                            "#bd3786"
                          ],
                          [
                            0.5555555555555556,
                            "#d8576b"
                          ],
                          [
                            0.6666666666666666,
                            "#ed7953"
                          ],
                          [
                            0.7777777777777778,
                            "#fb9f3a"
                          ],
                          [
                            0.8888888888888888,
                            "#fdca26"
                          ],
                          [
                            1,
                            "#f0f921"
                          ]
                        ],
                        "type": "histogram2dcontour"
                      }
                    ],
                    "mesh3d": [
                      {
                        "colorbar": {
                          "outlinewidth": 0,
                          "ticks": ""
                        },
                        "type": "mesh3d"
                      }
                    ],
                    "parcoords": [
                      {
                        "line": {
                          "colorbar": {
                            "outlinewidth": 0,
                            "ticks": ""
                          }
                        },
                        "type": "parcoords"
                      }
                    ],
                    "pie": [
                      {
                        "automargin": true,
                        "type": "pie"
                      }
                    ],
                    "scatter": [
                      {
                        "fillpattern": {
                          "fillmode": "overlay",
                          "size": 10,
                          "solidity": 0.2
                        },
                        "type": "scatter"
                      }
                    ],
                    "scatter3d": [
                      {
                        "line": {
                          "colorbar": {
                            "outlinewidth": 0,
                            "ticks": ""
                          }
                        },
                        "marker": {
                          "colorbar": {
                            "outlinewidth": 0,
                            "ticks": ""
                          }
                        },
                        "type": "scatter3d"
                      }
                    ],
                    "scattercarpet": [
                      {
                        "marker": {
                          "colorbar": {
                            "outlinewidth": 0,
                            "ticks": ""
                          }
                        },
                        "type": "scattercarpet"
                      }
                    ],
                    "scattergeo": [
                      {
                        "marker": {
                          "colorbar": {
                            "outlinewidth": 0,
                            "ticks": ""
                          }
                        },
                        "type": "scattergeo"
                      }
                    ],
                    "scattergl": [
                      {
                        "marker": {
                          "colorbar": {
                            "outlinewidth": 0,
                            "ticks": ""
                          }
                        },
                        "type": "scattergl"
                      }
                    ],
                    "scattermap": [
                      {
                        "marker": {
                          "colorbar": {
                            "outlinewidth": 0,
                            "ticks": ""
                          }
                        },
                        "type": "scattermap"
                      }
                    ],
                    "scattermapbox": [
                      {
                        "marker": {
                          "colorbar": {
                            "outlinewidth": 0,
                            "ticks": ""
                          }
                        },
                        "type": "scattermapbox"
                      }
                    ],
                    "scatterpolar": [
                      {
                        "marker": {
                          "colorbar": {
                            "outlinewidth": 0,
                            "ticks": ""
                          }
                        },
                        "type": "scatterpolar"
                      }
                    ],
                    "scatterpolargl": [
                      {
                        "marker": {
                          "colorbar": {
                            "outlinewidth": 0,
                            "ticks": ""
                          }
                        },
                        "type": "scatterpolargl"
                      }
                    ],
                    "scatterternary": [
                      {
                        "marker": {
                          "colorbar": {
                            "outlinewidth": 0,
                            "ticks": ""
                          }
                        },
                        "type": "scatterternary"
                      }
                    ],
                    "surface": [
                      {
                        "colorbar": {
                          "outlinewidth": 0,
                          "ticks": ""
                        },
                        "colorscale": [
                          [
                            0,
                            "#0d0887"
                          ],
                          [
                            0.1111111111111111,
                            "#46039f"
                          ],
                          [
                            0.2222222222222222,
                            "#7201a8"
                          ],
                          [
                            0.3333333333333333,
                            "#9c179e"
                          ],
                          [
                            0.4444444444444444,
                            "#bd3786"
                          ],
                          [
                            0.5555555555555556,
                            "#d8576b"
                          ],
                          [
                            0.6666666666666666,
                            "#ed7953"
                          ],
                          [
                            0.7777777777777778,
                            "#fb9f3a"
                          ],
                          [
                            0.8888888888888888,
                            "#fdca26"
                          ],
                          [
                            1,
                            "#f0f921"
                          ]
                        ],
                        "type": "surface"
                      }
                    ],
                    "table": [
                      {
                        "cells": {
                          "fill": {
                            "color": "#EBF0F8"
                          },
                          "line": {
                            "color": "white"
                          }
                        },
                        "header": {
                          "fill": {
                            "color": "#C8D4E3"
                          },
                          "line": {
                            "color": "white"
                          }
                        },
                        "type": "table"
                      }
                    ]
                  },
                  "layout": {
                    "annotationdefaults": {
                      "arrowcolor": "#2a3f5f",
                      "arrowhead": 0,
                      "arrowwidth": 1
                    },
                    "autotypenumbers": "strict",
                    "coloraxis": {
                      "colorbar": {
                        "outlinewidth": 0,
                        "ticks": ""
                      }
                    },
                    "colorscale": {
                      "diverging": [
                        [
                          0,
                          "#8e0152"
                        ],
                        [
                          0.1,
                          "#c51b7d"
                        ],
                        [
                          0.2,
                          "#de77ae"
                        ],
                        [
                          0.3,
                          "#f1b6da"
                        ],
                        [
                          0.4,
                          "#fde0ef"
                        ],
                        [
                          0.5,
                          "#f7f7f7"
                        ],
                        [
                          0.6,
                          "#e6f5d0"
                        ],
                        [
                          0.7,
                          "#b8e186"
                        ],
                        [
                          0.8,
                          "#7fbc41"
                        ],
                        [
                          0.9,
                          "#4d9221"
                        ],
                        [
                          1,
                          "#276419"
                        ]
                      ],
                      "sequential": [
                        [
                          0,
                          "#0d0887"
                        ],
                        [
                          0.1111111111111111,
                          "#46039f"
                        ],
                        [
                          0.2222222222222222,
                          "#7201a8"
                        ],
                        [
                          0.3333333333333333,
                          "#9c179e"
                        ],
                        [
                          0.4444444444444444,
                          "#bd3786"
                        ],
                        [
                          0.5555555555555556,
                          "#d8576b"
                        ],
                        [
                          0.6666666666666666,
                          "#ed7953"
                        ],
                        [
                          0.7777777777777778,
                          "#fb9f3a"
                        ],
                        [
                          0.8888888888888888,
                          "#fdca26"
                        ],
                        [
                          1,
                          "#f0f921"
                        ]
                      ],
                      "sequentialminus": [
                        [
                          0,
                          "#0d0887"
                        ],
                        [
                          0.1111111111111111,
                          "#46039f"
                        ],
                        [
                          0.2222222222222222,
                          "#7201a8"
                        ],
                        [
                          0.3333333333333333,
                          "#9c179e"
                        ],
                        [
                          0.4444444444444444,
                          "#bd3786"
                        ],
                        [
                          0.5555555555555556,
                          "#d8576b"
                        ],
                        [
                          0.6666666666666666,
                          "#ed7953"
                        ],
                        [
                          0.7777777777777778,
                          "#fb9f3a"
                        ],
                        [
                          0.8888888888888888,
                          "#fdca26"
                        ],
                        [
                          1,
                          "#f0f921"
                        ]
                      ]
                    },
                    "colorway": [
                      "#636efa",
                      "#EF553B",
                      "#00cc96",
                      "#ab63fa",
                      "#FFA15A",
                      "#19d3f3",
                      "#FF6692",
                      "#B6E880",
                      "#FF97FF",
                      "#FECB52"
                    ],
                    "font": {
                      "color": "#2a3f5f"
                    },
                    "geo": {
                      "bgcolor": "white",
                      "lakecolor": "white",
                      "landcolor": "#E5ECF6",
                      "showlakes": true,
                      "showland": true,
                      "subunitcolor": "white"
                    },
                    "hoverlabel": {
                      "align": "left"
                    },
                    "hovermode": "closest",
                    "mapbox": {
                      "style": "light"
                    },
                    "paper_bgcolor": "white",
                    "plot_bgcolor": "#E5ECF6",
                    "polar": {
                      "angularaxis": {
                        "gridcolor": "white",
                        "linecolor": "white",
                        "ticks": ""
                      },
                      "bgcolor": "#E5ECF6",
                      "radialaxis": {
                        "gridcolor": "white",
                        "linecolor": "white",
                        "ticks": ""
                      }
                    },
                    "scene": {
                      "xaxis": {
                        "backgroundcolor": "#E5ECF6",
                        "gridcolor": "white",
                        "gridwidth": 2,
                        "linecolor": "white",
                        "showbackground": true,
                        "ticks": "",
                        "zerolinecolor": "white"
                      },
                      "yaxis": {
                        "backgroundcolor": "#E5ECF6",
                        "gridcolor": "white",
                        "gridwidth": 2,
                        "linecolor": "white",
                        "showbackground": true,
                        "ticks": "",
                        "zerolinecolor": "white"
                      },
                      "zaxis": {
                        "backgroundcolor": "#E5ECF6",
                        "gridcolor": "white",
                        "gridwidth": 2,
                        "linecolor": "white",
                        "showbackground": true,
                        "ticks": "",
                        "zerolinecolor": "white"
                      }
                    },
                    "shapedefaults": {
                      "line": {
                        "color": "#2a3f5f"
                      }
                    },
                    "ternary": {
                      "aaxis": {
                        "gridcolor": "white",
                        "linecolor": "white",
                        "ticks": ""
                      },
                      "baxis": {
                        "gridcolor": "white",
                        "linecolor": "white",
                        "ticks": ""
                      },
                      "bgcolor": "#E5ECF6",
                      "caxis": {
                        "gridcolor": "white",
                        "linecolor": "white",
                        "ticks": ""
                      }
                    },
                    "title": {
                      "x": 0.05
                    },
                    "xaxis": {
                      "automargin": true,
                      "gridcolor": "white",
                      "linecolor": "white",
                      "ticks": "",
                      "title": {
                        "standoff": 15
                      },
                      "zerolinecolor": "white",
                      "zerolinewidth": 2
                    },
                    "yaxis": {
                      "automargin": true,
                      "gridcolor": "white",
                      "linecolor": "white",
                      "ticks": "",
                      "title": {
                        "standoff": 15
                      },
                      "zerolinecolor": "white",
                      "zerolinewidth": 2
                    }
                  }
                },
                "title": {
                  "text": "Xu hướng phát thải CO₂ trung bình theo cụm quốc gia (2000–2023)"
                },
                "xaxis": {
                  "anchor": "y",
                  "domain": [
                    0,
                    1
                  ],
                  "title": {
                    "text": "Năm"
                  }
                },
                "yaxis": {
                  "anchor": "x",
                  "domain": [
                    0,
                    1
                  ],
                  "title": {
                    "text": "Lượng phát thải CO₂ trung bình (kt)"
                  }
                }
              }
            }
          },
          "metadata": {},
          "output_type": "display_data"
        }
      ],
      "source": [
        "import plotly.express as px\n",
        "import matplotlib.cm as cm\n",
        "\n",
        "# Số cụm (giống như trong mô hình KMeans)\n",
        "n_clusters = 3\n",
        "\n",
        "# Lấy bảng màu viridis giống bên matplotlib\n",
        "# viridis_cmap = cm.get_cmap('viridis', n_clusters)\n",
        "# cluster_colors_hex = [\n",
        "#     f\"rgba({int(r*255)}, {int(g*255)}, {int(b*255)}, {a})\"\n",
        "#     for r, g, b, a in [viridis_cmap(i) for i in range(n_clusters)]\n",
        "# ]\n",
        "\n",
        "# Tạo mapping cụm → mức phát thải\n",
        "cluster_labels = {\n",
        "    0: \"Phát thải thấp\",\n",
        "    1: \"Phát thải trung bình\",\n",
        "    2: \"Phát thải cao\"\n",
        "}\n",
        "\n",
        "# Tạo mapping màu tương ứng\n",
        "colors = {\n",
        "    0: \"teal\",     # thấp\n",
        "    1: \"purple\",       # trung bình\n",
        "    2: \"red\"        # cao\n",
        "}\n",
        "\n",
        "# Map cluster label to color\n",
        "color_map = {label: colors[cluster_id] for cluster_id, label in cluster_labels.items()}\n",
        "\n",
        "# Add cluster labels to the trend dataframe\n",
        "df_cluster_trend['cluster_label_text'] = df_cluster_trend['cluster_label'].map(cluster_labels)\n",
        "\n",
        "\n",
        "# Vẽ lại biểu đồ Plotly với đúng thứ tự màu theo cụm\n",
        "fig = px.line(\n",
        "    df_cluster_trend.sort_values(\"cluster_label\"),\n",
        "    x='year',\n",
        "    y='co2',\n",
        "    color='cluster_label_text', # Use text label for color mapping\n",
        "    title='Xu hướng phát thải CO₂ trung bình theo cụm quốc gia (2000–2023)',\n",
        "    markers=True,\n",
        "    color_discrete_map=color_map,  # Use the custom color map\n",
        "    category_orders={\"cluster_label_text\": [\"Phát thải thấp\", \"Phát thải trung bình\", \"Phát thải cao\"]} # Ensure correct legend order\n",
        ")\n",
        "\n",
        "fig.update_layout(\n",
        "    xaxis_title=\"Năm\",\n",
        "    yaxis_title=\"Lượng phát thải CO₂ trung bình (kt)\",\n",
        "    legend_title=\"Nhóm phát thải\"\n",
        ")\n",
        "\n",
        "fig.update_traces(marker=dict(size=8))\n",
        "fig.show()"
      ]
    }
  ],
  "metadata": {
    "colab": {
      "provenance": []
    },
    "kernelspec": {
      "display_name": "Python 3",
      "name": "python3"
    },
    "language_info": {
      "codemirror_mode": {
        "name": "ipython",
        "version": 3
      },
      "file_extension": ".py",
      "mimetype": "text/x-python",
      "name": "python",
      "nbconvert_exporter": "python",
      "pygments_lexer": "ipython3",
      "version": "3.12.1"
    }
  },
  "nbformat": 4,
  "nbformat_minor": 0
}

{
 "cells": [
  {
   "cell_type": "code",
   "execution_count": 2,
   "id": "7210fd1b",
   "metadata": {},
   "outputs": [
    {
     "name": "stdout",
     "output_type": "stream",
     "text": [
      "Ket qua so sanh hai so thuc 2.00 va 5.00:\n",
      "2.00     <     5.00:     True\n",
      "2.00     <=     5.00:     True\n",
      "2.00     >     5.00:    False\n",
      "2.00     >=     5.00:    False\n",
      "2.00     ==     5.00:    False\n",
      "2.00     !=     5.00:     True\n"
     ]
    }
   ],
   "source": [
    "%run SoSanh.py"
   ]
  },
  {
   "cell_type": "code",
   "execution_count": 1,
   "id": "ff9fa5e0",
   "metadata": {},
   "outputs": [
    {
     "name": "stdout",
     "output_type": "stream",
     "text": [
      "Max(2, 3, 3) = 3\n"
     ]
    }
   ],
   "source": [
    "%run Max3Num.py\n"
   ]
  },
  {
   "cell_type": "code",
   "execution_count": 2,
   "id": "5fe70769",
   "metadata": {},
   "outputs": [
    {
     "name": "stdout",
     "output_type": "stream",
     "text": [
      "Whoever is happy will make others happy too\n",
      "--Anne Frank\n"
     ]
    }
   ],
   "source": [
    "%run InChuoi.py"
   ]
  },
  {
   "cell_type": "code",
   "execution_count": 8,
   "id": "a3eb2976",
   "metadata": {},
   "outputs": [
    {
     "name": "stdout",
     "output_type": "stream",
     "text": [
      "Cac ket qua tinh toan: \n",
      "5     +     6 =    11\n",
      "5     -     6 =    -1\n",
      "5     *     6 =    30\n",
      "5     /     6 =     0\n",
      "5     /     6 =     5\n",
      "5     /     6 =  0.83\n"
     ]
    }
   ],
   "source": [
    "%run BieuThuc.py"
   ]
  },
  {
   "cell_type": "code",
   "execution_count": 7,
   "id": "8b45e1cd",
   "metadata": {},
   "outputs": [
    {
     "name": "stdout",
     "output_type": "stream",
     "text": [
      "Gia tri cua ham so f(2.30) = 3.27.\n"
     ]
    }
   ],
   "source": [
    "%run HamSo.py"
   ]
  },
  {
   "cell_type": "code",
   "execution_count": 6,
   "id": "49ef051f",
   "metadata": {},
   "outputs": [
    {
     "name": "stdout",
     "output_type": "stream",
     "text": [
      "Gia tri cua ham so f(1234.00) = 23844847676662.54.\n"
     ]
    }
   ],
   "source": [
    "%run TongChuSo.py"
   ]
  },
  {
   "cell_type": "code",
   "execution_count": 12,
   "id": "5f12a720",
   "metadata": {},
   "outputs": [
    {
     "name": "stdout",
     "output_type": "stream",
     "text": [
      "Max(2, 3, 4) = 4\n"
     ]
    }
   ],
   "source": [
    "%run Sort3Num.py"
   ]
  },
  {
   "cell_type": "code",
   "execution_count": 15,
   "id": "acfe9106",
   "metadata": {},
   "outputs": [
    {
     "name": "stdout",
     "output_type": "stream",
     "text": [
      "0.00x + 10.00 = 0: no solution\n"
     ]
    }
   ],
   "source": [
    "%run Solve1Deg.py"
   ]
  },
  {
   "cell_type": "code",
   "execution_count": 18,
   "id": "91bea4fb",
   "metadata": {},
   "outputs": [
    {
     "name": "stdout",
     "output_type": "stream",
     "text": [
      "365\n"
     ]
    }
   ],
   "source": [
    "%run TotalDayYear.py"
   ]
  }
 ],
 "metadata": {
  "kernelspec": {
   "display_name": "Python 3",
   "language": "python",
   "name": "python3"
  },
  "language_info": {
   "codemirror_mode": {
    "name": "ipython",
    "version": 3
   },
   "file_extension": ".py",
   "mimetype": "text/x-python",
   "name": "python",
   "nbconvert_exporter": "python",
   "pygments_lexer": "ipython3",
   "version": "3.12.1"
  }
 },
 "nbformat": 4,
 "nbformat_minor": 5
}

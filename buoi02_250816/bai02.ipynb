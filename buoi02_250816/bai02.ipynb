{
 "cells": [
  {
   "cell_type": "code",
   "execution_count": 2,
   "id": "7210fd1b",
   "metadata": {},
   "outputs": [
    {
     "name": "stdout",
     "output_type": "stream",
     "text": [
      "Ket qua so sanh hai so thuc 2.00 va 5.00:\n",
      "2.00     <     5.00:     True\n",
      "2.00     <=     5.00:     True\n",
      "2.00     >     5.00:    False\n",
      "2.00     >=     5.00:    False\n",
      "2.00     ==     5.00:    False\n",
      "2.00     !=     5.00:     True\n"
     ]
    }
   ],
   "source": [
    "%run SoSanh.py"
   ]
  },
  {
   "cell_type": "code",
   "execution_count": 6,
   "id": "ff9fa5e0",
   "metadata": {},
   "outputs": [
    {
     "name": "stdout",
     "output_type": "stream",
     "text": [
      "Max(2, 5, 4) = 5\n"
     ]
    }
   ],
   "source": [
    "%run Max3Num.py\n"
   ]
  }
 ],
 "metadata": {
  "kernelspec": {
   "display_name": ".venv",
   "language": "python",
   "name": "python3"
  },
  "language_info": {
   "codemirror_mode": {
    "name": "ipython",
    "version": 3
   },
   "file_extension": ".py",
   "mimetype": "text/x-python",
   "name": "python",
   "nbconvert_exporter": "python",
   "pygments_lexer": "ipython3",
   "version": "3.12.3"
  }
 },
 "nbformat": 4,
 "nbformat_minor": 5
}
